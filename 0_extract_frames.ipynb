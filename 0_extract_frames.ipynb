{
 "cells": [
  {
   "cell_type": "code",
   "execution_count": 1,
   "metadata": {},
   "outputs": [],
   "source": [
    "import cv2\n",
    "import os"
   ]
  },
  {
   "cell_type": "code",
   "execution_count": 2,
   "metadata": {},
   "outputs": [],
   "source": [
    "listing = os.listdir(r'temp_vid')\n",
    "count=1\n",
    "\n",
    "for vid in listing:\n",
    "    vid = r\"temp_vid/\"+vid\n",
    "    vidcap = cv2.VideoCapture(vid)\n",
    "    def getFrame(sec):\n",
    "        vidcap.set(cv2.CAP_PROP_POS_MSEC,sec*1000)\n",
    "        hasFrames,image = vidcap.read()\n",
    "        if hasFrames:\n",
    "            cv2.imwrite(vid+\"_\"+str(count)+\".jpg\", image) # Save frame as JPG file\n",
    "            #cv2.imwrite(\"kicking_l\"+str(count)+\".jpg\", image) # Save frame as JPG file\n",
    "        return hasFrames\n",
    "    sec = 0\n",
    "    # saniyede 25 kare --> 0.04. suan 0.05 -> 20 kare\n",
    "    frameRate = 0.05 # Change this number to 1 for each 1 second -- 0.1 saniyede on kare\n",
    "    \n",
    "    success = getFrame(sec)\n",
    "    while success:\n",
    "        count = count + 1\n",
    "        sec = sec + frameRate\n",
    "        sec = round(sec, 2)\n",
    "        success = getFrame(sec)\n",
    "    else:\n",
    "        count = 1"
   ]
  },
  {
   "cell_type": "code",
   "execution_count": 3,
   "metadata": {},
   "outputs": [],
   "source": [
    "vidcap.release()"
   ]
  },
  {
   "cell_type": "code",
   "execution_count": null,
   "metadata": {},
   "outputs": [],
   "source": []
  }
 ],
 "metadata": {
  "kernelspec": {
   "display_name": "Python 3",
   "language": "python",
   "name": "python3"
  },
  "language_info": {
   "codemirror_mode": {
    "name": "ipython",
    "version": 3
   },
   "file_extension": ".py",
   "mimetype": "text/x-python",
   "name": "python",
   "nbconvert_exporter": "python",
   "pygments_lexer": "ipython3",
   "version": "3.8.5"
  }
 },
 "nbformat": 4,
 "nbformat_minor": 4
}
