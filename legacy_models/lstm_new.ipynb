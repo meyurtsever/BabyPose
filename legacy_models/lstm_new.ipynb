{
 "cells": [
  {
   "cell_type": "code",
   "execution_count": 1,
   "metadata": {},
   "outputs": [],
   "source": [
    "import pandas as pd\n",
    "import time\n",
    "import os\n",
    "import keras\n",
    "import numpy as np\n",
    "import sklearn\n",
    "from sklearn.preprocessing import LabelEncoder\n",
    "from sklearn.metrics import confusion_matrix\n",
    "from keras.layers import Dense, LSTM, Dropout\n",
    "from keras.models import Sequential\n",
    "from keras.callbacks import ModelCheckpoint, EarlyStopping\n",
    "from keras.utils import to_categorical\n",
    "from sklearn.preprocessing import MinMaxScaler\n",
    "from keras.optimizers import RMSprop\n",
    "\n",
    "import matplotlib\n",
    "import matplotlib.pyplot as plt\n",
    "import itertools\n",
    "import tensorflow as tf\n",
    "\n",
    "import seaborn as sns"
   ]
  },
  {
   "cell_type": "code",
   "execution_count": 2,
   "metadata": {},
   "outputs": [],
   "source": [
    "\n",
    "# Useful Constants\n",
    "\n",
    "# Output classes to learn how to classify\n",
    "LABELS = [\n",
    "    \"arching_back\",\n",
    "    \"head_banging\",\n",
    "    \"kicking_legs\",\n",
    "    \"rubbing_eye\",\n",
    "    \"stretching\",\n",
    "    \"sucking_fingers\"\n",
    "]\n",
    "\n",
    "DATASET_PATH = \"C:\\\\Users\\\\Yurtsever\\\\baby-activity-recog-new\\\\\"\n",
    "\n",
    "X_train_path = DATASET_PATH + \"X_train.txt\"\n",
    "X_test_path = DATASET_PATH + \"X_test.txt\"\n",
    "\n",
    "y_train_path = DATASET_PATH + \"Y_train.txt\"\n",
    "y_test_path = DATASET_PATH + \"Y_test.txt\"\n",
    "\n",
    "n_steps = 20 # 20 timesteps per series"
   ]
  },
  {
   "cell_type": "code",
   "execution_count": 3,
   "metadata": {},
   "outputs": [],
   "source": [
    "# Load the networks inputs\n",
    "\n",
    "def load_X(X_path):\n",
    "    file = open(X_path, 'r')\n",
    "    X_ = np.array(\n",
    "        [elem for elem in [\n",
    "            row.split(',') for row in file\n",
    "        ]], \n",
    "        dtype=np.float32\n",
    "    )\n",
    "    file.close()\n",
    "    #blocks = int(len(X_) / n_steps)\n",
    "    \n",
    "    #X_ = np.array(np.split(X_,blocks))\n",
    "\n",
    "    return X_ \n",
    "\n",
    "# Load the networks outputs\n",
    "\n",
    "def load_y(y_path):\n",
    "    file = open(y_path, 'r')\n",
    "    y_ = np.array(\n",
    "        [elem for elem in [\n",
    "            row.replace('  ', ' ').strip().split(' ') for row in file\n",
    "        ]], \n",
    "        dtype=np.int32\n",
    "    )\n",
    "    file.close()\n",
    "    \n",
    "    # for 0-based indexing \n",
    "    return y_ - 1\n",
    "\n",
    "X_train = load_X(X_train_path)\n",
    "X_test = load_X(X_test_path)\n",
    "#print X_test\n",
    "\n",
    "y_train = load_y(y_train_path)\n",
    "y_test = load_y(y_test_path)\n",
    "# proof that it actually works for the skeptical: replace labelled classes with random classes to train on\n",
    "#for i in range(len(y_train)):\n",
    "#    y_train[i] = randint(0, 5)"
   ]
  },
  {
   "cell_type": "code",
   "execution_count": 4,
   "metadata": {
    "scrolled": true
   },
   "outputs": [
    {
     "name": "stdout",
     "output_type": "stream",
     "text": [
      "[[0.499398 0.246288 0.484095 ... 0.428835 0.491752 0.251768]\n",
      " [0.496335 0.246263 0.474909 ... 0.423358 0.491729 0.251717]\n",
      " [0.496344 0.240816 0.474917 ... 0.409768 0.485622 0.243557]\n",
      " ...\n",
      " [0.610051 0.431201 0.623814 ... 0.741836 0.       0.      ]\n",
      " [0.611568 0.444827 0.62689  ... 0.749998 0.       0.      ]\n",
      " [0.610056 0.450263 0.629945 ... 0.755431 0.       0.      ]]\n"
     ]
    }
   ],
   "source": [
    "print(X_train)"
   ]
  },
  {
   "cell_type": "code",
   "execution_count": 5,
   "metadata": {
    "scrolled": true
   },
   "outputs": [],
   "source": [
    "#scalar = MinMaxScaler()\n",
    "#X_train = scalar.fit_transform(X_train)"
   ]
  },
  {
   "cell_type": "code",
   "execution_count": 6,
   "metadata": {
    "scrolled": true
   },
   "outputs": [
    {
     "name": "stdout",
     "output_type": "stream",
     "text": [
      "[[0.499398 0.246288 0.484095 ... 0.428835 0.491752 0.251768]\n",
      " [0.496335 0.246263 0.474909 ... 0.423358 0.491729 0.251717]\n",
      " [0.496344 0.240816 0.474917 ... 0.409768 0.485622 0.243557]\n",
      " ...\n",
      " [0.610051 0.431201 0.623814 ... 0.741836 0.       0.      ]\n",
      " [0.611568 0.444827 0.62689  ... 0.749998 0.       0.      ]\n",
      " [0.610056 0.450263 0.629945 ... 0.755431 0.       0.      ]]\n"
     ]
    }
   ],
   "source": [
    "print(X_train)"
   ]
  },
  {
   "cell_type": "code",
   "execution_count": 7,
   "metadata": {
    "scrolled": true
   },
   "outputs": [
    {
     "data": {
      "text/plain": [
       "(49580, 38)"
      ]
     },
     "execution_count": 7,
     "metadata": {},
     "output_type": "execute_result"
    }
   ],
   "source": [
    "X_train.shape"
   ]
  },
  {
   "cell_type": "code",
   "execution_count": 8,
   "metadata": {
    "scrolled": true
   },
   "outputs": [
    {
     "name": "stdout",
     "output_type": "stream",
     "text": [
      "[[0]\n",
      " [0]\n",
      " [0]\n",
      " [0]\n",
      " [0]\n",
      " [0]\n",
      " [0]\n",
      " [0]\n",
      " [0]\n",
      " [0]\n",
      " [1]\n",
      " [1]\n",
      " [1]\n",
      " [1]\n",
      " [1]\n",
      " [1]\n",
      " [1]\n",
      " [1]\n",
      " [1]\n",
      " [1]\n",
      " [1]\n",
      " [1]\n",
      " [1]\n",
      " [1]\n",
      " [1]\n",
      " [1]\n",
      " [1]\n",
      " [1]\n",
      " [1]\n",
      " [1]\n",
      " [1]\n",
      " [1]\n",
      " [1]\n",
      " [1]\n",
      " [1]\n",
      " [1]\n",
      " [1]\n",
      " [1]\n",
      " [2]\n",
      " [2]\n",
      " [2]\n",
      " [2]\n",
      " [2]\n",
      " [2]\n",
      " [2]\n",
      " [2]\n",
      " [2]\n",
      " [2]\n",
      " [2]\n",
      " [2]\n",
      " [2]\n",
      " [2]\n",
      " [2]\n",
      " [2]\n",
      " [2]\n",
      " [2]\n",
      " [2]\n",
      " [2]\n",
      " [2]\n",
      " [2]\n",
      " [2]\n",
      " [2]\n",
      " [2]\n",
      " [2]\n",
      " [2]\n",
      " [2]\n",
      " [2]\n",
      " [2]\n",
      " [2]\n",
      " [2]\n",
      " [2]\n",
      " [2]\n",
      " [2]\n",
      " [2]\n",
      " [2]\n",
      " [2]\n",
      " [2]\n",
      " [2]\n",
      " [2]\n",
      " [2]\n",
      " [2]\n",
      " [2]\n",
      " [2]\n",
      " [2]\n",
      " [2]\n",
      " [2]\n",
      " [2]\n",
      " [2]\n",
      " [2]\n",
      " [2]\n",
      " [2]\n",
      " [2]\n",
      " [2]\n",
      " [2]\n",
      " [2]\n",
      " [2]\n",
      " [2]\n",
      " [2]\n",
      " [2]\n",
      " [2]\n",
      " [2]\n",
      " [2]\n",
      " [2]\n",
      " [2]\n",
      " [2]\n",
      " [2]\n",
      " [2]\n",
      " [2]\n",
      " [2]\n",
      " [2]\n",
      " [2]\n",
      " [2]\n",
      " [2]\n",
      " [2]\n",
      " [2]\n",
      " [2]\n",
      " [2]\n",
      " [2]\n",
      " [2]\n",
      " [2]\n",
      " [2]\n",
      " [2]\n",
      " [2]\n",
      " [2]\n",
      " [2]\n",
      " [2]\n",
      " [2]\n",
      " [2]\n",
      " [2]\n",
      " [2]\n",
      " [2]\n",
      " [2]\n",
      " [2]\n",
      " [2]\n",
      " [2]\n",
      " [2]\n",
      " [2]\n",
      " [2]\n",
      " [2]\n",
      " [2]\n",
      " [2]\n",
      " [2]\n",
      " [2]\n",
      " [2]\n",
      " [2]\n",
      " [2]\n",
      " [2]\n",
      " [2]\n",
      " [2]\n",
      " [2]\n",
      " [2]\n",
      " [2]\n",
      " [2]\n",
      " [2]\n",
      " [2]\n",
      " [2]\n",
      " [2]\n",
      " [2]\n",
      " [2]\n",
      " [2]\n",
      " [2]\n",
      " [2]\n",
      " [2]\n",
      " [2]\n",
      " [2]\n",
      " [2]\n",
      " [2]\n",
      " [2]\n",
      " [2]\n",
      " [2]\n",
      " [2]\n",
      " [2]\n",
      " [2]\n",
      " [2]\n",
      " [2]\n",
      " [2]\n",
      " [2]\n",
      " [2]\n",
      " [2]\n",
      " [2]\n",
      " [2]\n",
      " [2]\n",
      " [2]\n",
      " [2]\n",
      " [2]\n",
      " [2]\n",
      " [2]\n",
      " [2]\n",
      " [2]\n",
      " [2]\n",
      " [2]\n",
      " [2]\n",
      " [2]\n",
      " [2]\n",
      " [2]\n",
      " [2]\n",
      " [2]\n",
      " [2]\n",
      " [2]\n",
      " [2]\n",
      " [2]\n",
      " [2]\n",
      " [3]\n",
      " [3]\n",
      " [3]\n",
      " [3]\n",
      " [3]\n",
      " [3]\n",
      " [3]\n",
      " [3]\n",
      " [3]\n",
      " [3]\n",
      " [3]\n",
      " [3]\n",
      " [3]\n",
      " [3]\n",
      " [3]\n",
      " [3]\n",
      " [3]\n",
      " [3]\n",
      " [3]\n",
      " [3]\n",
      " [3]\n",
      " [3]\n",
      " [3]\n",
      " [3]\n",
      " [3]\n",
      " [3]\n",
      " [3]\n",
      " [3]\n",
      " [3]\n",
      " [3]\n",
      " [3]\n",
      " [3]\n",
      " [3]\n",
      " [3]\n",
      " [3]\n",
      " [3]\n",
      " [3]\n",
      " [3]\n",
      " [3]\n",
      " [3]\n",
      " [3]\n",
      " [3]\n",
      " [3]\n",
      " [3]\n",
      " [3]\n",
      " [3]\n",
      " [3]\n",
      " [3]\n",
      " [3]\n",
      " [3]\n",
      " [3]\n",
      " [3]\n",
      " [3]\n",
      " [3]\n",
      " [3]\n",
      " [3]\n",
      " [3]\n",
      " [3]\n",
      " [3]\n",
      " [3]\n",
      " [3]\n",
      " [3]\n",
      " [3]\n",
      " [3]\n",
      " [3]\n",
      " [3]\n",
      " [3]\n",
      " [3]\n",
      " [3]\n",
      " [3]\n",
      " [3]\n",
      " [3]\n",
      " [3]\n",
      " [3]\n",
      " [3]\n",
      " [3]\n",
      " [3]\n",
      " [3]\n",
      " [3]\n",
      " [3]\n",
      " [3]\n",
      " [3]\n",
      " [3]\n",
      " [3]\n",
      " [3]\n",
      " [3]\n",
      " [3]\n",
      " [3]\n",
      " [4]\n",
      " [4]\n",
      " [4]\n",
      " [4]\n",
      " [4]\n",
      " [4]\n",
      " [4]\n",
      " [4]\n",
      " [4]\n",
      " [4]\n",
      " [4]\n",
      " [4]\n",
      " [4]\n",
      " [4]\n",
      " [4]\n",
      " [4]\n",
      " [4]\n",
      " [4]\n",
      " [4]\n",
      " [4]\n",
      " [4]\n",
      " [4]\n",
      " [4]\n",
      " [4]\n",
      " [4]\n",
      " [4]\n",
      " [4]\n",
      " [4]\n",
      " [4]\n",
      " [4]\n",
      " [4]\n",
      " [4]\n",
      " [4]\n",
      " [4]\n",
      " [4]\n",
      " [4]\n",
      " [4]\n",
      " [4]\n",
      " [4]\n",
      " [4]\n",
      " [4]\n",
      " [4]\n",
      " [4]\n",
      " [4]\n",
      " [4]\n",
      " [4]\n",
      " [4]\n",
      " [4]\n",
      " [4]\n",
      " [4]\n",
      " [4]\n",
      " [5]\n",
      " [5]\n",
      " [5]\n",
      " [5]\n",
      " [5]\n",
      " [5]\n",
      " [5]\n",
      " [5]\n",
      " [5]\n",
      " [5]\n",
      " [5]\n",
      " [5]\n",
      " [5]\n",
      " [5]\n",
      " [5]\n",
      " [5]\n",
      " [5]\n",
      " [5]\n",
      " [5]\n",
      " [5]\n",
      " [5]\n",
      " [5]\n",
      " [5]\n",
      " [5]\n",
      " [5]\n",
      " [5]\n",
      " [5]\n",
      " [5]\n",
      " [5]\n",
      " [5]\n",
      " [5]\n",
      " [5]\n",
      " [5]\n",
      " [5]\n",
      " [5]\n",
      " [5]\n",
      " [5]\n",
      " [5]\n",
      " [5]\n",
      " [5]\n",
      " [5]\n",
      " [5]\n",
      " [5]\n",
      " [5]\n",
      " [5]\n",
      " [5]\n",
      " [5]\n",
      " [5]\n",
      " [5]\n",
      " [5]\n",
      " [5]\n",
      " [5]\n",
      " [5]\n",
      " [5]\n",
      " [5]\n",
      " [5]\n",
      " [5]\n",
      " [5]\n",
      " [5]\n",
      " [5]\n",
      " [5]\n",
      " [5]\n",
      " [5]\n",
      " [5]\n",
      " [5]\n",
      " [5]\n",
      " [5]\n",
      " [5]\n",
      " [5]\n",
      " [5]\n",
      " [5]\n",
      " [5]\n",
      " [5]\n",
      " [5]\n",
      " [5]\n",
      " [5]\n",
      " [5]\n",
      " [5]\n",
      " [5]\n",
      " [5]\n",
      " [5]\n",
      " [5]\n",
      " [5]\n",
      " [5]\n",
      " [5]\n",
      " [5]\n",
      " [5]\n",
      " [5]\n",
      " [5]\n",
      " [5]\n",
      " [5]\n",
      " [5]\n",
      " [5]\n",
      " [5]\n",
      " [5]\n",
      " [5]\n",
      " [5]\n",
      " [5]\n",
      " [5]\n",
      " [5]\n",
      " [5]\n",
      " [5]\n",
      " [5]\n",
      " [5]\n",
      " [5]\n",
      " [5]\n",
      " [5]\n",
      " [5]\n",
      " [5]\n",
      " [5]\n",
      " [5]\n",
      " [5]\n",
      " [5]\n",
      " [5]\n",
      " [5]\n",
      " [5]\n",
      " [5]\n",
      " [5]\n",
      " [5]\n",
      " [5]\n",
      " [5]\n",
      " [5]\n",
      " [5]\n",
      " [5]\n",
      " [5]\n",
      " [5]\n",
      " [5]\n",
      " [5]\n",
      " [5]\n",
      " [5]\n",
      " [5]\n",
      " [5]\n",
      " [5]\n",
      " [5]\n",
      " [5]\n",
      " [5]\n",
      " [5]\n",
      " [5]\n",
      " [5]\n",
      " [5]\n",
      " [5]\n",
      " [5]\n",
      " [5]\n",
      " [5]\n",
      " [5]\n",
      " [5]\n",
      " [5]\n",
      " [5]\n",
      " [5]\n",
      " [5]\n",
      " [5]\n",
      " [5]\n",
      " [5]\n",
      " [5]\n",
      " [5]\n",
      " [5]\n",
      " [5]\n",
      " [5]\n",
      " [5]\n",
      " [5]\n",
      " [5]\n",
      " [5]\n",
      " [5]\n",
      " [5]\n",
      " [5]\n",
      " [5]\n",
      " [5]\n",
      " [5]\n",
      " [5]\n",
      " [5]\n",
      " [5]\n",
      " [5]\n",
      " [5]\n",
      " [5]\n",
      " [5]\n",
      " [5]\n",
      " [5]\n",
      " [5]\n",
      " [5]\n",
      " [5]\n",
      " [5]\n",
      " [5]\n",
      " [5]\n",
      " [5]\n",
      " [5]\n",
      " [5]\n",
      " [5]\n",
      " [5]\n",
      " [5]\n",
      " [5]\n",
      " [5]\n",
      " [5]\n",
      " [5]\n",
      " [5]\n",
      " [5]\n",
      " [5]\n",
      " [5]\n",
      " [5]\n",
      " [5]\n",
      " [5]\n",
      " [5]\n",
      " [5]\n",
      " [5]\n",
      " [5]\n",
      " [5]\n",
      " [5]\n",
      " [5]\n",
      " [5]\n",
      " [5]\n",
      " [5]\n",
      " [5]\n",
      " [5]\n",
      " [5]\n",
      " [5]\n",
      " [5]\n",
      " [5]\n",
      " [5]\n",
      " [5]\n",
      " [5]\n",
      " [5]\n",
      " [5]\n",
      " [5]\n",
      " [5]\n",
      " [5]\n",
      " [5]\n",
      " [5]\n",
      " [5]\n",
      " [5]\n",
      " [5]\n",
      " [5]\n",
      " [5]\n",
      " [5]\n",
      " [5]\n",
      " [5]\n",
      " [5]\n",
      " [5]\n",
      " [5]\n",
      " [5]\n",
      " [5]\n",
      " [5]\n",
      " [5]\n",
      " [5]\n",
      " [5]\n",
      " [5]\n",
      " [5]\n",
      " [5]\n",
      " [5]\n",
      " [5]\n",
      " [5]\n",
      " [5]\n",
      " [5]\n",
      " [5]\n",
      " [5]\n",
      " [5]\n",
      " [5]\n",
      " [5]]\n"
     ]
    }
   ],
   "source": [
    "print(y_test)"
   ]
  },
  {
   "cell_type": "markdown",
   "metadata": {},
   "source": [
    "## Block creation"
   ]
  },
  {
   "cell_type": "code",
   "execution_count": 9,
   "metadata": {},
   "outputs": [
    {
     "data": {
      "text/plain": [
       "(2479, 20, 38)"
      ]
     },
     "execution_count": 9,
     "metadata": {},
     "output_type": "execute_result"
    }
   ],
   "source": [
    "blocks = int(len(X_train) / 20)\n",
    "X_train = np.array(np.split(X_train, blocks))\n",
    "X_train.shape"
   ]
  },
  {
   "cell_type": "code",
   "execution_count": 10,
   "metadata": {},
   "outputs": [
    {
     "data": {
      "text/plain": [
       "(597, 20, 38)"
      ]
     },
     "execution_count": 10,
     "metadata": {},
     "output_type": "execute_result"
    }
   ],
   "source": [
    "blocks = int(len(X_test) / 20)\n",
    "X_test = np.array(np.split(X_test, blocks))\n",
    "X_test.shape"
   ]
  },
  {
   "cell_type": "code",
   "execution_count": 11,
   "metadata": {},
   "outputs": [
    {
     "data": {
      "text/plain": [
       "(2479, 1)"
      ]
     },
     "execution_count": 11,
     "metadata": {},
     "output_type": "execute_result"
    }
   ],
   "source": [
    "y_train.shape"
   ]
  },
  {
   "cell_type": "code",
   "execution_count": 12,
   "metadata": {},
   "outputs": [
    {
     "name": "stderr",
     "output_type": "stream",
     "text": [
      "C:\\Users\\Yurtsever\\anaconda3\\lib\\site-packages\\sklearn\\utils\\validation.py:72: DataConversionWarning: A column-vector y was passed when a 1d array was expected. Please change the shape of y to (n_samples, ), for example using ravel().\n",
      "  return f(**kwargs)\n"
     ]
    }
   ],
   "source": [
    "label_encoder = LabelEncoder()\n",
    "Y_train = np.array(y_train)\n",
    "Y_train = label_encoder.fit_transform(y_train)"
   ]
  },
  {
   "cell_type": "code",
   "execution_count": 13,
   "metadata": {},
   "outputs": [
    {
     "name": "stdout",
     "output_type": "stream",
     "text": [
      "[0 0 0 ... 5 5 5]\n"
     ]
    }
   ],
   "source": [
    "print(Y_train)"
   ]
  },
  {
   "cell_type": "code",
   "execution_count": 14,
   "metadata": {},
   "outputs": [
    {
     "data": {
      "text/plain": [
       "array([0, 1, 2, 3, 4, 5])"
      ]
     },
     "execution_count": 14,
     "metadata": {},
     "output_type": "execute_result"
    }
   ],
   "source": [
    "label_encoder.classes_"
   ]
  },
  {
   "cell_type": "code",
   "execution_count": 15,
   "metadata": {},
   "outputs": [],
   "source": [
    "Y_train = to_categorical(Y_train)"
   ]
  },
  {
   "cell_type": "code",
   "execution_count": 16,
   "metadata": {},
   "outputs": [],
   "source": [
    "y_test = to_categorical(y_test)"
   ]
  },
  {
   "cell_type": "code",
   "execution_count": 17,
   "metadata": {
    "scrolled": true
   },
   "outputs": [
    {
     "name": "stdout",
     "output_type": "stream",
     "text": [
      "[[1. 0. 0. 0. 0. 0.]\n",
      " [1. 0. 0. 0. 0. 0.]\n",
      " [1. 0. 0. 0. 0. 0.]\n",
      " ...\n",
      " [0. 0. 0. 0. 0. 1.]\n",
      " [0. 0. 0. 0. 0. 1.]\n",
      " [0. 0. 0. 0. 0. 1.]]\n"
     ]
    }
   ],
   "source": [
    "print(Y_train)"
   ]
  },
  {
   "cell_type": "code",
   "execution_count": 18,
   "metadata": {},
   "outputs": [],
   "source": [
    "model = Sequential()\n",
    "\n",
    "model.add(LSTM(32, input_shape=(20, 38), dropout=0.1, recurrent_dropout=0.5, return_sequences=True, activation='sigmoid')) # input_shape=(20, 50)\n",
    "\n",
    "model.add(LSTM(16, input_shape=(20, 38), dropout=0.1, recurrent_dropout=0.5, return_sequences=True, activation='sigmoid'))\n",
    "\n",
    "model.add(LSTM(8, input_shape=(20, 38), dropout=0.1, recurrent_dropout=0.5, return_sequences=False, activation='sigmoid'))\n",
    "\n",
    "#model.add(Dense(32))\n",
    "model.add(Dense(32))\n",
    "\n",
    "model.add(Dense(6, activation='softmax'))"
   ]
  },
  {
   "cell_type": "code",
   "execution_count": 19,
   "metadata": {},
   "outputs": [],
   "source": [
    "model.compile(optimizer=RMSprop(), loss='categorical_crossentropy', metrics=['accuracy']) # adam"
   ]
  },
  {
   "cell_type": "code",
   "execution_count": 20,
   "metadata": {
    "scrolled": false
   },
   "outputs": [
    {
     "name": "stdout",
     "output_type": "stream",
     "text": [
      "Epoch 1/70\n",
      "155/155 [==============================] - 12s 29ms/step - loss: 1.7620 - accuracy: 0.2315 - val_loss: 1.6189 - val_accuracy: 0.0854\n",
      "Epoch 2/70\n",
      "155/155 [==============================] - 3s 21ms/step - loss: 1.7016 - accuracy: 0.2439 - val_loss: 1.3648 - val_accuracy: 0.7035\n",
      "Epoch 3/70\n",
      "155/155 [==============================] - 3s 20ms/step - loss: 1.5333 - accuracy: 0.3731 - val_loss: 1.0805 - val_accuracy: 0.5695\n",
      "Epoch 4/70\n",
      "155/155 [==============================] - 3s 20ms/step - loss: 1.4099 - accuracy: 0.3734 - val_loss: 1.0460 - val_accuracy: 0.4355\n",
      "Epoch 5/70\n",
      "155/155 [==============================] - 3s 20ms/step - loss: 1.3743 - accuracy: 0.3840 - val_loss: 0.9913 - val_accuracy: 0.7035\n",
      "Epoch 6/70\n",
      "155/155 [==============================] - 3s 20ms/step - loss: 1.3413 - accuracy: 0.3942 - val_loss: 1.0195 - val_accuracy: 0.4372\n",
      "Epoch 7/70\n",
      "155/155 [==============================] - 3s 20ms/step - loss: 1.3075 - accuracy: 0.4223 - val_loss: 1.0231 - val_accuracy: 0.4472\n",
      "Epoch 8/70\n",
      "155/155 [==============================] - 3s 20ms/step - loss: 1.2713 - accuracy: 0.4507 - val_loss: 1.0769 - val_accuracy: 0.4623\n",
      "Epoch 9/70\n",
      "155/155 [==============================] - 3s 20ms/step - loss: 1.2613 - accuracy: 0.4715 - val_loss: 1.0010 - val_accuracy: 0.5946\n",
      "Epoch 10/70\n",
      "155/155 [==============================] - 3s 20ms/step - loss: 1.2385 - accuracy: 0.4993 - val_loss: 1.0631 - val_accuracy: 0.3752\n",
      "Epoch 11/70\n",
      "155/155 [==============================] - 3s 20ms/step - loss: 1.2033 - accuracy: 0.5069 - val_loss: 1.0333 - val_accuracy: 0.5394\n",
      "Epoch 12/70\n",
      "155/155 [==============================] - 3s 21ms/step - loss: 1.1845 - accuracy: 0.5101 - val_loss: 0.9828 - val_accuracy: 0.5829\n",
      "Epoch 13/70\n",
      "155/155 [==============================] - 3s 22ms/step - loss: 1.1739 - accuracy: 0.5104 - val_loss: 0.9348 - val_accuracy: 0.7219\n",
      "Epoch 14/70\n",
      "155/155 [==============================] - 4s 23ms/step - loss: 1.1934 - accuracy: 0.4974 - val_loss: 0.9224 - val_accuracy: 0.7018\n",
      "Epoch 15/70\n",
      "155/155 [==============================] - 4s 23ms/step - loss: 1.1544 - accuracy: 0.5262 - val_loss: 0.9681 - val_accuracy: 0.6281\n",
      "Epoch 16/70\n",
      "155/155 [==============================] - 4s 25ms/step - loss: 1.1038 - accuracy: 0.5613 - val_loss: 0.8977 - val_accuracy: 0.7303\n",
      "Epoch 17/70\n",
      "155/155 [==============================] - 3s 22ms/step - loss: 1.1200 - accuracy: 0.5429 - val_loss: 0.8828 - val_accuracy: 0.7471\n",
      "Epoch 18/70\n",
      "155/155 [==============================] - 3s 20ms/step - loss: 1.1090 - accuracy: 0.5547 - val_loss: 0.9229 - val_accuracy: 0.6399\n",
      "Epoch 19/70\n",
      "155/155 [==============================] - 3s 20ms/step - loss: 1.0806 - accuracy: 0.5660 - val_loss: 0.9008 - val_accuracy: 0.6365\n",
      "Epoch 20/70\n",
      "155/155 [==============================] - 3s 20ms/step - loss: 1.0900 - accuracy: 0.5555 - val_loss: 0.9324 - val_accuracy: 0.5896\n",
      "Epoch 21/70\n",
      "155/155 [==============================] - 3s 20ms/step - loss: 1.0886 - accuracy: 0.5632 - val_loss: 0.9275 - val_accuracy: 0.6013\n",
      "Epoch 22/70\n",
      "155/155 [==============================] - 3s 22ms/step - loss: 1.0495 - accuracy: 0.5869 - val_loss: 0.8659 - val_accuracy: 0.7387\n",
      "Epoch 23/70\n",
      "155/155 [==============================] - 3s 22ms/step - loss: 1.0315 - accuracy: 0.6023 - val_loss: 0.8746 - val_accuracy: 0.7169\n",
      "Epoch 24/70\n",
      "155/155 [==============================] - 3s 22ms/step - loss: 1.0061 - accuracy: 0.6067 - val_loss: 0.8430 - val_accuracy: 0.7404\n",
      "Epoch 25/70\n",
      "155/155 [==============================] - 3s 20ms/step - loss: 1.0017 - accuracy: 0.6027 - val_loss: 0.9048 - val_accuracy: 0.4908\n",
      "Epoch 26/70\n",
      "155/155 [==============================] - 3s 20ms/step - loss: 1.0325 - accuracy: 0.6110 - val_loss: 0.9214 - val_accuracy: 0.6382\n",
      "Epoch 27/70\n",
      "155/155 [==============================] - 3s 20ms/step - loss: 0.9820 - accuracy: 0.6335 - val_loss: 0.8482 - val_accuracy: 0.7320\n",
      "Epoch 28/70\n",
      "155/155 [==============================] - 3s 20ms/step - loss: 0.9926 - accuracy: 0.6335 - val_loss: 0.8558 - val_accuracy: 0.5913\n",
      "Epoch 29/70\n",
      "155/155 [==============================] - 3s 20ms/step - loss: 0.9067 - accuracy: 0.6706 - val_loss: 0.8902 - val_accuracy: 0.6784\n",
      "Epoch 30/70\n",
      "155/155 [==============================] - 3s 20ms/step - loss: 0.9503 - accuracy: 0.6480 - val_loss: 0.8413 - val_accuracy: 0.6315\n",
      "Epoch 31/70\n",
      "155/155 [==============================] - 3s 20ms/step - loss: 0.8915 - accuracy: 0.6721 - val_loss: 1.0165 - val_accuracy: 0.5796\n",
      "Epoch 32/70\n",
      "155/155 [==============================] - 3s 20ms/step - loss: 0.8619 - accuracy: 0.6970 - val_loss: 0.8361 - val_accuracy: 0.6164\n",
      "Epoch 33/70\n",
      "155/155 [==============================] - 3s 20ms/step - loss: 0.8750 - accuracy: 0.6867 - val_loss: 0.8345 - val_accuracy: 0.6181\n",
      "Epoch 34/70\n",
      "155/155 [==============================] - 3s 20ms/step - loss: 0.8426 - accuracy: 0.7016 - val_loss: 0.9672 - val_accuracy: 0.5008\n",
      "Epoch 35/70\n",
      "155/155 [==============================] - 3s 20ms/step - loss: 0.8634 - accuracy: 0.6967 - val_loss: 0.9550 - val_accuracy: 0.5678\n",
      "Epoch 36/70\n",
      "155/155 [==============================] - 3s 20ms/step - loss: 0.8107 - accuracy: 0.7051 - val_loss: 0.9370 - val_accuracy: 0.5913\n",
      "Epoch 37/70\n",
      "155/155 [==============================] - 3s 20ms/step - loss: 0.7974 - accuracy: 0.7153 - val_loss: 0.8153 - val_accuracy: 0.6064\n",
      "Epoch 38/70\n",
      "155/155 [==============================] - 3s 20ms/step - loss: 0.7628 - accuracy: 0.7181 - val_loss: 0.8280 - val_accuracy: 0.6281\n",
      "Epoch 39/70\n",
      "155/155 [==============================] - 3s 20ms/step - loss: 0.7336 - accuracy: 0.7460 - val_loss: 0.9382 - val_accuracy: 0.6901\n",
      "Epoch 40/70\n",
      "155/155 [==============================] - 3s 20ms/step - loss: 0.7502 - accuracy: 0.7208 - val_loss: 0.7615 - val_accuracy: 0.6633\n",
      "Epoch 41/70\n",
      "155/155 [==============================] - 3s 20ms/step - loss: 0.6996 - accuracy: 0.7427 - val_loss: 0.8607 - val_accuracy: 0.6164\n",
      "Epoch 42/70\n",
      "155/155 [==============================] - 3s 20ms/step - loss: 0.6828 - accuracy: 0.7375 - val_loss: 0.8603 - val_accuracy: 0.6348\n",
      "Epoch 43/70\n",
      "155/155 [==============================] - 3s 20ms/step - loss: 0.6913 - accuracy: 0.7345 - val_loss: 0.7231 - val_accuracy: 0.6700\n",
      "Epoch 44/70\n",
      "155/155 [==============================] - 3s 20ms/step - loss: 0.6790 - accuracy: 0.7505 - val_loss: 0.8359 - val_accuracy: 0.5846\n",
      "Epoch 45/70\n",
      "155/155 [==============================] - 3s 20ms/step - loss: 0.6678 - accuracy: 0.7483 - val_loss: 0.8142 - val_accuracy: 0.7487\n",
      "Epoch 46/70\n",
      "155/155 [==============================] - 3s 20ms/step - loss: 0.6373 - accuracy: 0.7753 - val_loss: 0.6432 - val_accuracy: 0.7655\n",
      "Epoch 47/70\n",
      "155/155 [==============================] - 3s 20ms/step - loss: 0.6425 - accuracy: 0.7583 - val_loss: 0.7098 - val_accuracy: 0.6516\n",
      "Epoch 48/70\n",
      "155/155 [==============================] - 3s 20ms/step - loss: 0.6044 - accuracy: 0.7879 - val_loss: 0.9382 - val_accuracy: 0.5879\n",
      "Epoch 49/70\n",
      "155/155 [==============================] - 3s 20ms/step - loss: 0.6214 - accuracy: 0.7785 - val_loss: 0.7838 - val_accuracy: 0.7370\n",
      "Epoch 50/70\n",
      "155/155 [==============================] - 3s 20ms/step - loss: 0.5769 - accuracy: 0.7885 - val_loss: 0.5631 - val_accuracy: 0.8074\n",
      "Epoch 51/70\n",
      "155/155 [==============================] - 3s 20ms/step - loss: 0.5797 - accuracy: 0.7983 - val_loss: 0.8111 - val_accuracy: 0.6415\n",
      "Epoch 52/70\n",
      "155/155 [==============================] - 3s 20ms/step - loss: 0.6032 - accuracy: 0.7778 - val_loss: 0.4965 - val_accuracy: 0.8626\n",
      "Epoch 53/70\n",
      "155/155 [==============================] - 3s 20ms/step - loss: 0.5646 - accuracy: 0.7788 - val_loss: 0.6256 - val_accuracy: 0.7789\n",
      "Epoch 54/70\n",
      "155/155 [==============================] - 3s 20ms/step - loss: 0.5636 - accuracy: 0.7991 - val_loss: 0.6518 - val_accuracy: 0.7571\n",
      "Epoch 55/70\n",
      "155/155 [==============================] - 3s 20ms/step - loss: 0.5569 - accuracy: 0.7893 - val_loss: 0.6459 - val_accuracy: 0.7755\n",
      "Epoch 56/70\n",
      "155/155 [==============================] - 3s 20ms/step - loss: 0.5436 - accuracy: 0.8073 - val_loss: 0.5614 - val_accuracy: 0.8291\n",
      "Epoch 57/70\n",
      "155/155 [==============================] - 3s 20ms/step - loss: 0.5032 - accuracy: 0.8198 - val_loss: 0.5762 - val_accuracy: 0.8074\n"
     ]
    },
    {
     "name": "stdout",
     "output_type": "stream",
     "text": [
      "Epoch 58/70\n",
      "155/155 [==============================] - 3s 20ms/step - loss: 0.4767 - accuracy: 0.8296 - val_loss: 0.7202 - val_accuracy: 0.6951\n",
      "Epoch 59/70\n",
      "155/155 [==============================] - 3s 20ms/step - loss: 0.5224 - accuracy: 0.8111 - val_loss: 0.4837 - val_accuracy: 0.8660\n",
      "Epoch 60/70\n",
      "155/155 [==============================] - 3s 20ms/step - loss: 0.4970 - accuracy: 0.8265 - val_loss: 0.4871 - val_accuracy: 0.8760\n",
      "Epoch 61/70\n",
      "155/155 [==============================] - 3s 20ms/step - loss: 0.5074 - accuracy: 0.8214 - val_loss: 0.4859 - val_accuracy: 0.8744\n",
      "Epoch 62/70\n",
      "155/155 [==============================] - 3s 20ms/step - loss: 0.4869 - accuracy: 0.8189 - val_loss: 0.5379 - val_accuracy: 0.8241\n",
      "Epoch 63/70\n",
      "155/155 [==============================] - 3s 20ms/step - loss: 0.5090 - accuracy: 0.8144 - val_loss: 0.6113 - val_accuracy: 0.8074\n",
      "Epoch 64/70\n",
      "155/155 [==============================] - 3s 20ms/step - loss: 0.4756 - accuracy: 0.8341 - val_loss: 0.7768 - val_accuracy: 0.7688\n",
      "Epoch 65/70\n",
      "155/155 [==============================] - 3s 20ms/step - loss: 0.4462 - accuracy: 0.8416 - val_loss: 0.6314 - val_accuracy: 0.8141\n",
      "Epoch 66/70\n",
      "155/155 [==============================] - 3s 20ms/step - loss: 0.4853 - accuracy: 0.8308 - val_loss: 0.6585 - val_accuracy: 0.7822\n",
      "Epoch 67/70\n",
      "155/155 [==============================] - 3s 20ms/step - loss: 0.4705 - accuracy: 0.8265 - val_loss: 0.5240 - val_accuracy: 0.8241\n",
      "Epoch 68/70\n",
      "155/155 [==============================] - 3s 20ms/step - loss: 0.4748 - accuracy: 0.8293 - val_loss: 0.5038 - val_accuracy: 0.8476\n",
      "Epoch 69/70\n",
      "155/155 [==============================] - 3s 20ms/step - loss: 0.4663 - accuracy: 0.8474 - val_loss: 0.6085 - val_accuracy: 0.8459\n",
      "Epoch 70/70\n",
      "155/155 [==============================] - 3s 20ms/step - loss: 0.4665 - accuracy: 0.8432 - val_loss: 0.5392 - val_accuracy: 0.8476\n"
     ]
    }
   ],
   "source": [
    "history = model.fit(X_train, Y_train, validation_data=(X_test, y_test), epochs=70, batch_size=16)"
   ]
  },
  {
   "cell_type": "code",
   "execution_count": 21,
   "metadata": {},
   "outputs": [
    {
     "name": "stdout",
     "output_type": "stream",
     "text": [
      "dict_keys(['loss', 'accuracy', 'val_loss', 'val_accuracy'])\n"
     ]
    },
    {
     "data": {
      "image/png": "[encoded data removed]",
      "text/plain": [
       "<Figure size 576x576 with 1 Axes>"
      ]
     },
     "metadata": {
      "needs_background": "light"
     },
     "output_type": "display_data"
    },
    {
     "data": {
      "image/png": "[encoded data removed]",
      "text/plain": [
       "<Figure size 576x576 with 1 Axes>"
      ]
     },
     "metadata": {
      "needs_background": "light"
     },
     "output_type": "display_data"
    }
   ],
   "source": [
    "# (Inline plots: )\n",
    "\n",
    "font = {\n",
    "    'weight' : 'bold',\n",
    "    'size'   : 14\n",
    "}\n",
    "matplotlib.rc('font', **font)\n",
    "\n",
    "width = 8\n",
    "height = 8\n",
    "plt.figure(figsize=(width, height))\n",
    "\n",
    "\n",
    "print(history.history.keys())\n",
    "# summarize history for accuracy\n",
    "plt.plot(history.history['accuracy'])\n",
    "plt.plot(history.history['val_accuracy'])\n",
    "plt.title('model accuracy')\n",
    "plt.ylabel('accuracy')\n",
    "plt.xlabel('epoch')\n",
    "plt.legend(['train', 'test'], loc='upper left')\n",
    "plt.show()\n",
    "\n",
    "font = {\n",
    "    'weight' : 'bold',\n",
    "    'size'   : 14\n",
    "}\n",
    "matplotlib.rc('font', **font)\n",
    "\n",
    "width = 8\n",
    "height = 8\n",
    "plt.figure(figsize=(width, height))\n",
    "\n",
    "\n",
    "# summarize history for loss\n",
    "plt.plot(history.history['loss'])\n",
    "plt.plot(history.history['val_loss'])\n",
    "plt.title('model loss')\n",
    "plt.ylabel('loss')\n",
    "plt.xlabel('epoch')\n",
    "plt.legend(['train', 'test'], loc='upper left')\n",
    "plt.show()"
   ]
  },
  {
   "cell_type": "code",
   "execution_count": 22,
   "metadata": {},
   "outputs": [
    {
     "name": "stderr",
     "output_type": "stream",
     "text": [
      "C:\\Users\\Yurtsever\\AppData\\Roaming\\Python\\Python38\\site-packages\\tensorflow\\python\\keras\\engine\\sequential.py:450: UserWarning: `model.predict_classes()` is deprecated and will be removed after 2021-01-01. Please use instead:* `np.argmax(model.predict(x), axis=-1)`,   if your model does multi-class classification   (e.g. if it uses a `softmax` last-layer activation).* `(model.predict(x) > 0.5).astype(\"int32\")`,   if your model does binary classification   (e.g. if it uses a `sigmoid` last-layer activation).\n",
      "  warnings.warn('`model.predict_classes()` is deprecated and '\n"
     ]
    }
   ],
   "source": [
    "y_true = y_test\n",
    "y_pred = model.predict_classes(X_test)\n",
    "\n",
    "classes=[\"arching_back\", \"head_banging\", \"kicking_legs\", \"rubbing_eye\", \"stretching\", \"sucking_fingers\"]"
   ]
  },
  {
   "cell_type": "code",
   "execution_count": 23,
   "metadata": {},
   "outputs": [
    {
     "data": {
      "image/png": "[encoded data removed]",
      "text/plain": [
       "<Figure size 576x576 with 2 Axes>"
      ]
     },
     "metadata": {
      "needs_background": "light"
     },
     "output_type": "display_data"
    }
   ],
   "source": [
    "con_mat = tf.math.confusion_matrix(labels=y_true.argmax(axis=1), predictions=y_pred).numpy()\n",
    "con_mat_norm = np.around(con_mat.astype('float') / con_mat.sum(axis=1)[:, np.newaxis], decimals=2)\n",
    "\n",
    "con_mat_df = pd.DataFrame(con_mat_norm,\n",
    "                     index = classes, \n",
    "                     columns = classes)\n",
    "\n",
    "figure = plt.figure(figsize=(8, 8))\n",
    "sns.heatmap(con_mat_df, annot=True,cmap=plt.cm.Blues)\n",
    "plt.tight_layout()\n",
    "plt.ylabel('True label')\n",
    "plt.xlabel('Predicted label')\n",
    "plt.show()"
   ]
  },
  {
   "cell_type": "code",
   "execution_count": 24,
   "metadata": {},
   "outputs": [],
   "source": [
    "y_pred = model.predict(X_test)\n",
    "confusion_matrix = sklearn.metrics.confusion_matrix(y_test.argmax(axis=1), np.rint(y_pred.argmax(axis=1)))"
   ]
  },
  {
   "cell_type": "code",
   "execution_count": 25,
   "metadata": {
    "scrolled": true
   },
   "outputs": [
    {
     "name": "stdout",
     "output_type": "stream",
     "text": [
      "[[  4   0   6   0   0   0]\n",
      " [  0  28   0   0   0   0]\n",
      " [  0   0 164   0   0   0]\n",
      " [  0   0   0  77  11   0]\n",
      " [  0   0   0  13  26  12]\n",
      " [  0  10   0  19  20 207]]\n"
     ]
    }
   ],
   "source": [
    "print(confusion_matrix)"
   ]
  },
  {
   "cell_type": "code",
   "execution_count": 26,
   "metadata": {
    "scrolled": true
   },
   "outputs": [
    {
     "name": "stdout",
     "output_type": "stream",
     "text": [
      "[[1. 0. 0. 0. 0. 0.]\n",
      " [1. 0. 0. 0. 0. 0.]\n",
      " [1. 0. 0. 0. 0. 0.]\n",
      " ...\n",
      " [0. 0. 0. 0. 0. 1.]\n",
      " [0. 0. 0. 0. 0. 1.]\n",
      " [0. 0. 0. 0. 0. 1.]]\n"
     ]
    }
   ],
   "source": [
    "print(y_test)"
   ]
  },
  {
   "cell_type": "code",
   "execution_count": 27,
   "metadata": {
    "scrolled": true
   },
   "outputs": [
    {
     "ename": "InvalidArgumentError",
     "evalue": "Shapes of all inputs must match: values[0].shape = [597] != values[1].shape = [597,6] [Op:Pack] name: stack",
     "output_type": "error",
     "traceback": [
      "\u001b[1;31m---------------------------------------------------------------------------\u001b[0m",
      "\u001b[1;31mInvalidArgumentError\u001b[0m                      Traceback (most recent call last)",
      "\u001b[1;32m<ipython-input-27-6bd117d149ed>\u001b[0m in \u001b[0;36m<module>\u001b[1;34m\u001b[0m\n\u001b[0;32m      1\u001b[0m \u001b[1;32mimport\u001b[0m \u001b[0mtensorflow\u001b[0m \u001b[1;32mas\u001b[0m \u001b[0mtf\u001b[0m\u001b[1;33m\u001b[0m\u001b[1;33m\u001b[0m\u001b[0m\n\u001b[1;32m----> 2\u001b[1;33m conf_matrix = tf.math.confusion_matrix(labels=y_test.argmax(axis=1),\n\u001b[0m\u001b[0;32m      3\u001b[0m                                        predictions=y_pred)\n",
      "\u001b[1;32m~\\AppData\\Roaming\\Python\\Python38\\site-packages\\tensorflow\\python\\util\\dispatch.py\u001b[0m in \u001b[0;36mwrapper\u001b[1;34m(*args, **kwargs)\u001b[0m\n\u001b[0;32m    199\u001b[0m     \u001b[1;34m\"\"\"Call target, and fall back on dispatchers if there is a TypeError.\"\"\"\u001b[0m\u001b[1;33m\u001b[0m\u001b[1;33m\u001b[0m\u001b[0m\n\u001b[0;32m    200\u001b[0m     \u001b[1;32mtry\u001b[0m\u001b[1;33m:\u001b[0m\u001b[1;33m\u001b[0m\u001b[1;33m\u001b[0m\u001b[0m\n\u001b[1;32m--> 201\u001b[1;33m       \u001b[1;32mreturn\u001b[0m \u001b[0mtarget\u001b[0m\u001b[1;33m(\u001b[0m\u001b[1;33m*\u001b[0m\u001b[0margs\u001b[0m\u001b[1;33m,\u001b[0m \u001b[1;33m**\u001b[0m\u001b[0mkwargs\u001b[0m\u001b[1;33m)\u001b[0m\u001b[1;33m\u001b[0m\u001b[1;33m\u001b[0m\u001b[0m\n\u001b[0m\u001b[0;32m    202\u001b[0m     \u001b[1;32mexcept\u001b[0m \u001b[1;33m(\u001b[0m\u001b[0mTypeError\u001b[0m\u001b[1;33m,\u001b[0m \u001b[0mValueError\u001b[0m\u001b[1;33m)\u001b[0m\u001b[1;33m:\u001b[0m\u001b[1;33m\u001b[0m\u001b[1;33m\u001b[0m\u001b[0m\n\u001b[0;32m    203\u001b[0m       \u001b[1;31m# Note: convert_to_eager_tensor currently raises a ValueError, not a\u001b[0m\u001b[1;33m\u001b[0m\u001b[1;33m\u001b[0m\u001b[1;33m\u001b[0m\u001b[0m\n",
      "\u001b[1;32m~\\AppData\\Roaming\\Python\\Python38\\site-packages\\tensorflow\\python\\ops\\confusion_matrix.py\u001b[0m in \u001b[0;36mconfusion_matrix\u001b[1;34m(labels, predictions, num_classes, weights, dtype, name)\u001b[0m\n\u001b[0;32m    190\u001b[0m \u001b[1;33m\u001b[0m\u001b[0m\n\u001b[0;32m    191\u001b[0m     \u001b[0mshape\u001b[0m \u001b[1;33m=\u001b[0m \u001b[0marray_ops\u001b[0m\u001b[1;33m.\u001b[0m\u001b[0mstack\u001b[0m\u001b[1;33m(\u001b[0m\u001b[1;33m[\u001b[0m\u001b[0mnum_classes\u001b[0m\u001b[1;33m,\u001b[0m \u001b[0mnum_classes\u001b[0m\u001b[1;33m]\u001b[0m\u001b[1;33m)\u001b[0m\u001b[1;33m\u001b[0m\u001b[1;33m\u001b[0m\u001b[0m\n\u001b[1;32m--> 192\u001b[1;33m     \u001b[0mindices\u001b[0m \u001b[1;33m=\u001b[0m \u001b[0marray_ops\u001b[0m\u001b[1;33m.\u001b[0m\u001b[0mstack\u001b[0m\u001b[1;33m(\u001b[0m\u001b[1;33m[\u001b[0m\u001b[0mlabels\u001b[0m\u001b[1;33m,\u001b[0m \u001b[0mpredictions\u001b[0m\u001b[1;33m]\u001b[0m\u001b[1;33m,\u001b[0m \u001b[0maxis\u001b[0m\u001b[1;33m=\u001b[0m\u001b[1;36m1\u001b[0m\u001b[1;33m)\u001b[0m\u001b[1;33m\u001b[0m\u001b[1;33m\u001b[0m\u001b[0m\n\u001b[0m\u001b[0;32m    193\u001b[0m     values = (array_ops.ones_like(predictions, dtype)\n\u001b[0;32m    194\u001b[0m               if weights is None else weights)\n",
      "\u001b[1;32m~\\AppData\\Roaming\\Python\\Python38\\site-packages\\tensorflow\\python\\util\\dispatch.py\u001b[0m in \u001b[0;36mwrapper\u001b[1;34m(*args, **kwargs)\u001b[0m\n\u001b[0;32m    199\u001b[0m     \u001b[1;34m\"\"\"Call target, and fall back on dispatchers if there is a TypeError.\"\"\"\u001b[0m\u001b[1;33m\u001b[0m\u001b[1;33m\u001b[0m\u001b[0m\n\u001b[0;32m    200\u001b[0m     \u001b[1;32mtry\u001b[0m\u001b[1;33m:\u001b[0m\u001b[1;33m\u001b[0m\u001b[1;33m\u001b[0m\u001b[0m\n\u001b[1;32m--> 201\u001b[1;33m       \u001b[1;32mreturn\u001b[0m \u001b[0mtarget\u001b[0m\u001b[1;33m(\u001b[0m\u001b[1;33m*\u001b[0m\u001b[0margs\u001b[0m\u001b[1;33m,\u001b[0m \u001b[1;33m**\u001b[0m\u001b[0mkwargs\u001b[0m\u001b[1;33m)\u001b[0m\u001b[1;33m\u001b[0m\u001b[1;33m\u001b[0m\u001b[0m\n\u001b[0m\u001b[0;32m    202\u001b[0m     \u001b[1;32mexcept\u001b[0m \u001b[1;33m(\u001b[0m\u001b[0mTypeError\u001b[0m\u001b[1;33m,\u001b[0m \u001b[0mValueError\u001b[0m\u001b[1;33m)\u001b[0m\u001b[1;33m:\u001b[0m\u001b[1;33m\u001b[0m\u001b[1;33m\u001b[0m\u001b[0m\n\u001b[0;32m    203\u001b[0m       \u001b[1;31m# Note: convert_to_eager_tensor currently raises a ValueError, not a\u001b[0m\u001b[1;33m\u001b[0m\u001b[1;33m\u001b[0m\u001b[1;33m\u001b[0m\u001b[0m\n",
      "\u001b[1;32m~\\AppData\\Roaming\\Python\\Python38\\site-packages\\tensorflow\\python\\ops\\array_ops.py\u001b[0m in \u001b[0;36mstack\u001b[1;34m(values, axis, name)\u001b[0m\n\u001b[0;32m   1410\u001b[0m                        (axis, -expanded_num_dims, expanded_num_dims))\n\u001b[0;32m   1411\u001b[0m \u001b[1;33m\u001b[0m\u001b[0m\n\u001b[1;32m-> 1412\u001b[1;33m   \u001b[1;32mreturn\u001b[0m \u001b[0mgen_array_ops\u001b[0m\u001b[1;33m.\u001b[0m\u001b[0mpack\u001b[0m\u001b[1;33m(\u001b[0m\u001b[0mvalues\u001b[0m\u001b[1;33m,\u001b[0m \u001b[0maxis\u001b[0m\u001b[1;33m=\u001b[0m\u001b[0maxis\u001b[0m\u001b[1;33m,\u001b[0m \u001b[0mname\u001b[0m\u001b[1;33m=\u001b[0m\u001b[0mname\u001b[0m\u001b[1;33m)\u001b[0m\u001b[1;33m\u001b[0m\u001b[1;33m\u001b[0m\u001b[0m\n\u001b[0m\u001b[0;32m   1413\u001b[0m \u001b[1;33m\u001b[0m\u001b[0m\n\u001b[0;32m   1414\u001b[0m \u001b[1;33m\u001b[0m\u001b[0m\n",
      "\u001b[1;32m~\\AppData\\Roaming\\Python\\Python38\\site-packages\\tensorflow\\python\\ops\\gen_array_ops.py\u001b[0m in \u001b[0;36mpack\u001b[1;34m(values, axis, name)\u001b[0m\n\u001b[0;32m   6377\u001b[0m       \u001b[1;32mreturn\u001b[0m \u001b[0m_result\u001b[0m\u001b[1;33m\u001b[0m\u001b[1;33m\u001b[0m\u001b[0m\n\u001b[0;32m   6378\u001b[0m     \u001b[1;32mexcept\u001b[0m \u001b[0m_core\u001b[0m\u001b[1;33m.\u001b[0m\u001b[0m_NotOkStatusException\u001b[0m \u001b[1;32mas\u001b[0m \u001b[0me\u001b[0m\u001b[1;33m:\u001b[0m\u001b[1;33m\u001b[0m\u001b[1;33m\u001b[0m\u001b[0m\n\u001b[1;32m-> 6379\u001b[1;33m       \u001b[0m_ops\u001b[0m\u001b[1;33m.\u001b[0m\u001b[0mraise_from_not_ok_status\u001b[0m\u001b[1;33m(\u001b[0m\u001b[0me\u001b[0m\u001b[1;33m,\u001b[0m \u001b[0mname\u001b[0m\u001b[1;33m)\u001b[0m\u001b[1;33m\u001b[0m\u001b[1;33m\u001b[0m\u001b[0m\n\u001b[0m\u001b[0;32m   6380\u001b[0m     \u001b[1;32mexcept\u001b[0m \u001b[0m_core\u001b[0m\u001b[1;33m.\u001b[0m\u001b[0m_FallbackException\u001b[0m\u001b[1;33m:\u001b[0m\u001b[1;33m\u001b[0m\u001b[1;33m\u001b[0m\u001b[0m\n\u001b[0;32m   6381\u001b[0m       \u001b[1;32mpass\u001b[0m\u001b[1;33m\u001b[0m\u001b[1;33m\u001b[0m\u001b[0m\n",
      "\u001b[1;32m~\\AppData\\Roaming\\Python\\Python38\\site-packages\\tensorflow\\python\\framework\\ops.py\u001b[0m in \u001b[0;36mraise_from_not_ok_status\u001b[1;34m(e, name)\u001b[0m\n\u001b[0;32m   6860\u001b[0m   \u001b[0mmessage\u001b[0m \u001b[1;33m=\u001b[0m \u001b[0me\u001b[0m\u001b[1;33m.\u001b[0m\u001b[0mmessage\u001b[0m \u001b[1;33m+\u001b[0m \u001b[1;33m(\u001b[0m\u001b[1;34m\" name: \"\u001b[0m \u001b[1;33m+\u001b[0m \u001b[0mname\u001b[0m \u001b[1;32mif\u001b[0m \u001b[0mname\u001b[0m \u001b[1;32mis\u001b[0m \u001b[1;32mnot\u001b[0m \u001b[1;32mNone\u001b[0m \u001b[1;32melse\u001b[0m \u001b[1;34m\"\"\u001b[0m\u001b[1;33m)\u001b[0m\u001b[1;33m\u001b[0m\u001b[1;33m\u001b[0m\u001b[0m\n\u001b[0;32m   6861\u001b[0m   \u001b[1;31m# pylint: disable=protected-access\u001b[0m\u001b[1;33m\u001b[0m\u001b[1;33m\u001b[0m\u001b[1;33m\u001b[0m\u001b[0m\n\u001b[1;32m-> 6862\u001b[1;33m   \u001b[0msix\u001b[0m\u001b[1;33m.\u001b[0m\u001b[0mraise_from\u001b[0m\u001b[1;33m(\u001b[0m\u001b[0mcore\u001b[0m\u001b[1;33m.\u001b[0m\u001b[0m_status_to_exception\u001b[0m\u001b[1;33m(\u001b[0m\u001b[0me\u001b[0m\u001b[1;33m.\u001b[0m\u001b[0mcode\u001b[0m\u001b[1;33m,\u001b[0m \u001b[0mmessage\u001b[0m\u001b[1;33m)\u001b[0m\u001b[1;33m,\u001b[0m \u001b[1;32mNone\u001b[0m\u001b[1;33m)\u001b[0m\u001b[1;33m\u001b[0m\u001b[1;33m\u001b[0m\u001b[0m\n\u001b[0m\u001b[0;32m   6863\u001b[0m   \u001b[1;31m# pylint: enable=protected-access\u001b[0m\u001b[1;33m\u001b[0m\u001b[1;33m\u001b[0m\u001b[1;33m\u001b[0m\u001b[0m\n\u001b[0;32m   6864\u001b[0m \u001b[1;33m\u001b[0m\u001b[0m\n",
      "\u001b[1;32m~\\anaconda3\\lib\\site-packages\\six.py\u001b[0m in \u001b[0;36mraise_from\u001b[1;34m(value, from_value)\u001b[0m\n",
      "\u001b[1;31mInvalidArgumentError\u001b[0m: Shapes of all inputs must match: values[0].shape = [597] != values[1].shape = [597,6] [Op:Pack] name: stack"
     ]
    }
   ],
   "source": [
    "import tensorflow as tf\n",
    "conf_matrix = tf.math.confusion_matrix(labels=y_test.argmax(axis=1),\n",
    "                                       predictions=y_pred)"
   ]
  },
  {
   "cell_type": "code",
   "execution_count": null,
   "metadata": {},
   "outputs": [],
   "source": [
    "print(conf_matrix)"
   ]
  },
  {
   "cell_type": "code",
   "execution_count": null,
   "metadata": {},
   "outputs": [],
   "source": []
  }
 ],
 "metadata": {
  "kernelspec": {
   "display_name": "Python 3",
   "language": "python",
   "name": "python3"
  },
  "language_info": {
   "codemirror_mode": {
    "name": "ipython",
    "version": 3
   },
   "file_extension": ".py",
   "mimetype": "text/x-python",
   "name": "python",
   "nbconvert_exporter": "python",
   "pygments_lexer": "ipython3",
   "version": "3.8.5"
  }
 },
 "nbformat": 4,
 "nbformat_minor": 4
}
