{
 "cells": [
  {
   "cell_type": "code",
   "execution_count": 1,
   "metadata": {},
   "outputs": [],
   "source": [
    "import pandas as pd\n",
    "import time\n",
    "import os\n",
    "import keras\n",
    "import numpy as np\n",
    "import sklearn\n",
    "from sklearn.preprocessing import LabelEncoder\n",
    "from sklearn.metrics import confusion_matrix\n",
    "from keras.layers import Dense, LSTM, Dropout\n",
    "from keras.models import Sequential\n",
    "from keras.callbacks import ModelCheckpoint, EarlyStopping\n",
    "from keras.utils import to_categorical\n",
    "from sklearn.preprocessing import MinMaxScaler\n",
    "from keras.optimizers import RMSprop\n",
    "\n",
    "import matplotlib\n",
    "import matplotlib.pyplot as plt\n",
    "import itertools\n",
    "import tensorflow as tf\n",
    "\n",
    "import seaborn as sns"
   ]
  },
  {
   "cell_type": "code",
   "execution_count": 2,
   "metadata": {},
   "outputs": [],
   "source": [
    "\n",
    "# Useful Constants\n",
    "\n",
    "# Output classes to learn how to classify\n",
    "LABELS = [\n",
    "    \"arching_back\",\n",
    "    \"head_banging\",\n",
    "    \"kicking_legs\",\n",
    "    \"rubbing_eye\",\n",
    "    \"stretching\",\n",
    "    \"sucking_fingers\"\n",
    "]\n",
    "\n",
    "DATASET_PATH = \"C:\\\\Users\\\\Yurtsever\\\\baby-activity-recog-new\\\\\"\n",
    "\n",
    "X_train_path = DATASET_PATH + \"X_train.txt\"\n",
    "X_test_path = DATASET_PATH + \"X_test.txt\"\n",
    "\n",
    "y_train_path = DATASET_PATH + \"Y_train.txt\"\n",
    "y_test_path = DATASET_PATH + \"Y_test.txt\"\n",
    "\n",
    "n_steps = 20 # 20 timesteps per series"
   ]
  },
  {
   "cell_type": "code",
   "execution_count": 3,
   "metadata": {},
   "outputs": [],
   "source": [
    "# Load the networks inputs\n",
    "\n",
    "def load_X(X_path):\n",
    "    file = open(X_path, 'r')\n",
    "    X_ = np.array(\n",
    "        [elem for elem in [\n",
    "            row.split(',') for row in file\n",
    "        ]], \n",
    "        dtype=np.float32\n",
    "    )\n",
    "    file.close()\n",
    "    #blocks = int(len(X_) / n_steps)\n",
    "    \n",
    "    #X_ = np.array(np.split(X_,blocks))\n",
    "\n",
    "    return X_ \n",
    "\n",
    "# Load the networks outputs\n",
    "\n",
    "def load_y(y_path):\n",
    "    file = open(y_path, 'r')\n",
    "    y_ = np.array(\n",
    "        [elem for elem in [\n",
    "            row.replace('  ', ' ').strip().split(' ') for row in file\n",
    "        ]], \n",
    "        dtype=np.int32\n",
    "    )\n",
    "    file.close()\n",
    "    \n",
    "    # for 0-based indexing \n",
    "    return y_ - 1\n",
    "\n",
    "X_train = load_X(X_train_path)\n",
    "X_test = load_X(X_test_path)\n",
    "#print X_test\n",
    "\n",
    "y_train = load_y(y_train_path)\n",
    "y_test = load_y(y_test_path)\n",
    "# proof that it actually works for the skeptical: replace labelled classes with random classes to train on\n",
    "#for i in range(len(y_train)):\n",
    "#    y_train[i] = randint(0, 5)"
   ]
  },
  {
   "cell_type": "code",
   "execution_count": 4,
   "metadata": {
    "scrolled": true
   },
   "outputs": [
    {
     "name": "stdout",
     "output_type": "stream",
     "text": [
      "[[0.499398 0.246288 0.484095 ... 0.428835 0.491752 0.251768]\n",
      " [0.496335 0.246263 0.474909 ... 0.423358 0.491729 0.251717]\n",
      " [0.496344 0.240816 0.474917 ... 0.409768 0.485622 0.243557]\n",
      " ...\n",
      " [0.610051 0.431201 0.623814 ... 0.741836 0.       0.      ]\n",
      " [0.611568 0.444827 0.62689  ... 0.749998 0.       0.      ]\n",
      " [0.610056 0.450263 0.629945 ... 0.755431 0.       0.      ]]\n"
     ]
    }
   ],
   "source": [
    "print(X_train)"
   ]
  },
  {
   "cell_type": "code",
   "execution_count": 5,
   "metadata": {
    "scrolled": true
   },
   "outputs": [],
   "source": [
    "#scalar = MinMaxScaler()\n",
    "#X_train = scalar.fit_transform(X_train)"
   ]
  },
  {
   "cell_type": "code",
   "execution_count": 6,
   "metadata": {
    "scrolled": true
   },
   "outputs": [
    {
     "name": "stdout",
     "output_type": "stream",
     "text": [
      "[[0.499398 0.246288 0.484095 ... 0.428835 0.491752 0.251768]\n",
      " [0.496335 0.246263 0.474909 ... 0.423358 0.491729 0.251717]\n",
      " [0.496344 0.240816 0.474917 ... 0.409768 0.485622 0.243557]\n",
      " ...\n",
      " [0.610051 0.431201 0.623814 ... 0.741836 0.       0.      ]\n",
      " [0.611568 0.444827 0.62689  ... 0.749998 0.       0.      ]\n",
      " [0.610056 0.450263 0.629945 ... 0.755431 0.       0.      ]]\n"
     ]
    }
   ],
   "source": [
    "print(X_train)"
   ]
  },
  {
   "cell_type": "code",
   "execution_count": 7,
   "metadata": {
    "scrolled": true
   },
   "outputs": [
    {
     "data": {
      "text/plain": [
       "(49580, 38)"
      ]
     },
     "execution_count": 7,
     "metadata": {},
     "output_type": "execute_result"
    }
   ],
   "source": [
    "X_train.shape"
   ]
  },
  {
   "cell_type": "code",
   "execution_count": 8,
   "metadata": {
    "scrolled": true
   },
   "outputs": [
    {
     "name": "stdout",
     "output_type": "stream",
     "text": [
      "[[0]\n",
      " [0]\n",
      " [0]\n",
      " [0]\n",
      " [0]\n",
      " [0]\n",
      " [0]\n",
      " [0]\n",
      " [0]\n",
      " [0]\n",
      " [1]\n",
      " [1]\n",
      " [1]\n",
      " [1]\n",
      " [1]\n",
      " [1]\n",
      " [1]\n",
      " [1]\n",
      " [1]\n",
      " [1]\n",
      " [1]\n",
      " [1]\n",
      " [1]\n",
      " [1]\n",
      " [1]\n",
      " [1]\n",
      " [1]\n",
      " [1]\n",
      " [1]\n",
      " [1]\n",
      " [1]\n",
      " [1]\n",
      " [1]\n",
      " [1]\n",
      " [1]\n",
      " [1]\n",
      " [1]\n",
      " [1]\n",
      " [2]\n",
      " [2]\n",
      " [2]\n",
      " [2]\n",
      " [2]\n",
      " [2]\n",
      " [2]\n",
      " [2]\n",
      " [2]\n",
      " [2]\n",
      " [2]\n",
      " [2]\n",
      " [2]\n",
      " [2]\n",
      " [2]\n",
      " [2]\n",
      " [2]\n",
      " [2]\n",
      " [2]\n",
      " [2]\n",
      " [2]\n",
      " [2]\n",
      " [2]\n",
      " [2]\n",
      " [2]\n",
      " [2]\n",
      " [2]\n",
      " [2]\n",
      " [2]\n",
      " [2]\n",
      " [2]\n",
      " [2]\n",
      " [2]\n",
      " [2]\n",
      " [2]\n",
      " [2]\n",
      " [2]\n",
      " [2]\n",
      " [2]\n",
      " [2]\n",
      " [2]\n",
      " [2]\n",
      " [2]\n",
      " [2]\n",
      " [2]\n",
      " [2]\n",
      " [2]\n",
      " [2]\n",
      " [2]\n",
      " [2]\n",
      " [2]\n",
      " [2]\n",
      " [2]\n",
      " [2]\n",
      " [2]\n",
      " [2]\n",
      " [2]\n",
      " [2]\n",
      " [2]\n",
      " [2]\n",
      " [2]\n",
      " [2]\n",
      " [2]\n",
      " [2]\n",
      " [2]\n",
      " [2]\n",
      " [2]\n",
      " [2]\n",
      " [2]\n",
      " [2]\n",
      " [2]\n",
      " [2]\n",
      " [2]\n",
      " [2]\n",
      " [2]\n",
      " [2]\n",
      " [2]\n",
      " [2]\n",
      " [2]\n",
      " [2]\n",
      " [2]\n",
      " [2]\n",
      " [2]\n",
      " [2]\n",
      " [2]\n",
      " [2]\n",
      " [2]\n",
      " [2]\n",
      " [2]\n",
      " [2]\n",
      " [2]\n",
      " [2]\n",
      " [2]\n",
      " [2]\n",
      " [2]\n",
      " [2]\n",
      " [2]\n",
      " [2]\n",
      " [2]\n",
      " [2]\n",
      " [2]\n",
      " [2]\n",
      " [2]\n",
      " [2]\n",
      " [2]\n",
      " [2]\n",
      " [2]\n",
      " [2]\n",
      " [2]\n",
      " [2]\n",
      " [2]\n",
      " [2]\n",
      " [2]\n",
      " [2]\n",
      " [2]\n",
      " [2]\n",
      " [2]\n",
      " [2]\n",
      " [2]\n",
      " [2]\n",
      " [2]\n",
      " [2]\n",
      " [2]\n",
      " [2]\n",
      " [2]\n",
      " [2]\n",
      " [2]\n",
      " [2]\n",
      " [2]\n",
      " [2]\n",
      " [2]\n",
      " [2]\n",
      " [2]\n",
      " [2]\n",
      " [2]\n",
      " [2]\n",
      " [2]\n",
      " [2]\n",
      " [2]\n",
      " [2]\n",
      " [2]\n",
      " [2]\n",
      " [2]\n",
      " [2]\n",
      " [2]\n",
      " [2]\n",
      " [2]\n",
      " [2]\n",
      " [2]\n",
      " [2]\n",
      " [2]\n",
      " [2]\n",
      " [2]\n",
      " [2]\n",
      " [2]\n",
      " [2]\n",
      " [2]\n",
      " [2]\n",
      " [2]\n",
      " [2]\n",
      " [2]\n",
      " [2]\n",
      " [2]\n",
      " [2]\n",
      " [3]\n",
      " [3]\n",
      " [3]\n",
      " [3]\n",
      " [3]\n",
      " [3]\n",
      " [3]\n",
      " [3]\n",
      " [3]\n",
      " [3]\n",
      " [3]\n",
      " [3]\n",
      " [3]\n",
      " [3]\n",
      " [3]\n",
      " [3]\n",
      " [3]\n",
      " [3]\n",
      " [3]\n",
      " [3]\n",
      " [3]\n",
      " [3]\n",
      " [3]\n",
      " [3]\n",
      " [3]\n",
      " [3]\n",
      " [3]\n",
      " [3]\n",
      " [3]\n",
      " [3]\n",
      " [3]\n",
      " [3]\n",
      " [3]\n",
      " [3]\n",
      " [3]\n",
      " [3]\n",
      " [3]\n",
      " [3]\n",
      " [3]\n",
      " [3]\n",
      " [3]\n",
      " [3]\n",
      " [3]\n",
      " [3]\n",
      " [3]\n",
      " [3]\n",
      " [3]\n",
      " [3]\n",
      " [3]\n",
      " [3]\n",
      " [3]\n",
      " [3]\n",
      " [3]\n",
      " [3]\n",
      " [3]\n",
      " [3]\n",
      " [3]\n",
      " [3]\n",
      " [3]\n",
      " [3]\n",
      " [3]\n",
      " [3]\n",
      " [3]\n",
      " [3]\n",
      " [3]\n",
      " [3]\n",
      " [3]\n",
      " [3]\n",
      " [3]\n",
      " [3]\n",
      " [3]\n",
      " [3]\n",
      " [3]\n",
      " [3]\n",
      " [3]\n",
      " [3]\n",
      " [3]\n",
      " [3]\n",
      " [3]\n",
      " [3]\n",
      " [3]\n",
      " [3]\n",
      " [3]\n",
      " [3]\n",
      " [3]\n",
      " [3]\n",
      " [3]\n",
      " [3]\n",
      " [4]\n",
      " [4]\n",
      " [4]\n",
      " [4]\n",
      " [4]\n",
      " [4]\n",
      " [4]\n",
      " [4]\n",
      " [4]\n",
      " [4]\n",
      " [4]\n",
      " [4]\n",
      " [4]\n",
      " [4]\n",
      " [4]\n",
      " [4]\n",
      " [4]\n",
      " [4]\n",
      " [4]\n",
      " [4]\n",
      " [4]\n",
      " [4]\n",
      " [4]\n",
      " [4]\n",
      " [4]\n",
      " [4]\n",
      " [4]\n",
      " [4]\n",
      " [4]\n",
      " [4]\n",
      " [4]\n",
      " [4]\n",
      " [4]\n",
      " [4]\n",
      " [4]\n",
      " [4]\n",
      " [4]\n",
      " [4]\n",
      " [4]\n",
      " [4]\n",
      " [4]\n",
      " [4]\n",
      " [4]\n",
      " [4]\n",
      " [4]\n",
      " [4]\n",
      " [4]\n",
      " [4]\n",
      " [4]\n",
      " [4]\n",
      " [4]\n",
      " [5]\n",
      " [5]\n",
      " [5]\n",
      " [5]\n",
      " [5]\n",
      " [5]\n",
      " [5]\n",
      " [5]\n",
      " [5]\n",
      " [5]\n",
      " [5]\n",
      " [5]\n",
      " [5]\n",
      " [5]\n",
      " [5]\n",
      " [5]\n",
      " [5]\n",
      " [5]\n",
      " [5]\n",
      " [5]\n",
      " [5]\n",
      " [5]\n",
      " [5]\n",
      " [5]\n",
      " [5]\n",
      " [5]\n",
      " [5]\n",
      " [5]\n",
      " [5]\n",
      " [5]\n",
      " [5]\n",
      " [5]\n",
      " [5]\n",
      " [5]\n",
      " [5]\n",
      " [5]\n",
      " [5]\n",
      " [5]\n",
      " [5]\n",
      " [5]\n",
      " [5]\n",
      " [5]\n",
      " [5]\n",
      " [5]\n",
      " [5]\n",
      " [5]\n",
      " [5]\n",
      " [5]\n",
      " [5]\n",
      " [5]\n",
      " [5]\n",
      " [5]\n",
      " [5]\n",
      " [5]\n",
      " [5]\n",
      " [5]\n",
      " [5]\n",
      " [5]\n",
      " [5]\n",
      " [5]\n",
      " [5]\n",
      " [5]\n",
      " [5]\n",
      " [5]\n",
      " [5]\n",
      " [5]\n",
      " [5]\n",
      " [5]\n",
      " [5]\n",
      " [5]\n",
      " [5]\n",
      " [5]\n",
      " [5]\n",
      " [5]\n",
      " [5]\n",
      " [5]\n",
      " [5]\n",
      " [5]\n",
      " [5]\n",
      " [5]\n",
      " [5]\n",
      " [5]\n",
      " [5]\n",
      " [5]\n",
      " [5]\n",
      " [5]\n",
      " [5]\n",
      " [5]\n",
      " [5]\n",
      " [5]\n",
      " [5]\n",
      " [5]\n",
      " [5]\n",
      " [5]\n",
      " [5]\n",
      " [5]\n",
      " [5]\n",
      " [5]\n",
      " [5]\n",
      " [5]\n",
      " [5]\n",
      " [5]\n",
      " [5]\n",
      " [5]\n",
      " [5]\n",
      " [5]\n",
      " [5]\n",
      " [5]\n",
      " [5]\n",
      " [5]\n",
      " [5]\n",
      " [5]\n",
      " [5]\n",
      " [5]\n",
      " [5]\n",
      " [5]\n",
      " [5]\n",
      " [5]\n",
      " [5]\n",
      " [5]\n",
      " [5]\n",
      " [5]\n",
      " [5]\n",
      " [5]\n",
      " [5]\n",
      " [5]\n",
      " [5]\n",
      " [5]\n",
      " [5]\n",
      " [5]\n",
      " [5]\n",
      " [5]\n",
      " [5]\n",
      " [5]\n",
      " [5]\n",
      " [5]\n",
      " [5]\n",
      " [5]\n",
      " [5]\n",
      " [5]\n",
      " [5]\n",
      " [5]\n",
      " [5]\n",
      " [5]\n",
      " [5]\n",
      " [5]\n",
      " [5]\n",
      " [5]\n",
      " [5]\n",
      " [5]\n",
      " [5]\n",
      " [5]\n",
      " [5]\n",
      " [5]\n",
      " [5]\n",
      " [5]\n",
      " [5]\n",
      " [5]\n",
      " [5]\n",
      " [5]\n",
      " [5]\n",
      " [5]\n",
      " [5]\n",
      " [5]\n",
      " [5]\n",
      " [5]\n",
      " [5]\n",
      " [5]\n",
      " [5]\n",
      " [5]\n",
      " [5]\n",
      " [5]\n",
      " [5]\n",
      " [5]\n",
      " [5]\n",
      " [5]\n",
      " [5]\n",
      " [5]\n",
      " [5]\n",
      " [5]\n",
      " [5]\n",
      " [5]\n",
      " [5]\n",
      " [5]\n",
      " [5]\n",
      " [5]\n",
      " [5]\n",
      " [5]\n",
      " [5]\n",
      " [5]\n",
      " [5]\n",
      " [5]\n",
      " [5]\n",
      " [5]\n",
      " [5]\n",
      " [5]\n",
      " [5]\n",
      " [5]\n",
      " [5]\n",
      " [5]\n",
      " [5]\n",
      " [5]\n",
      " [5]\n",
      " [5]\n",
      " [5]\n",
      " [5]\n",
      " [5]\n",
      " [5]\n",
      " [5]\n",
      " [5]\n",
      " [5]\n",
      " [5]\n",
      " [5]\n",
      " [5]\n",
      " [5]\n",
      " [5]\n",
      " [5]\n",
      " [5]\n",
      " [5]\n",
      " [5]\n",
      " [5]\n",
      " [5]\n",
      " [5]\n",
      " [5]\n",
      " [5]\n",
      " [5]\n",
      " [5]\n",
      " [5]\n",
      " [5]\n",
      " [5]\n",
      " [5]\n",
      " [5]\n",
      " [5]\n",
      " [5]\n",
      " [5]\n",
      " [5]\n",
      " [5]\n",
      " [5]\n",
      " [5]\n",
      " [5]\n",
      " [5]\n",
      " [5]\n",
      " [5]\n",
      " [5]\n",
      " [5]\n",
      " [5]\n",
      " [5]\n",
      " [5]\n",
      " [5]\n",
      " [5]\n",
      " [5]\n",
      " [5]\n",
      " [5]\n",
      " [5]\n",
      " [5]\n",
      " [5]]\n"
     ]
    }
   ],
   "source": [
    "print(y_test)"
   ]
  },
  {
   "cell_type": "markdown",
   "metadata": {},
   "source": [
    "## Block creation"
   ]
  },
  {
   "cell_type": "code",
   "execution_count": 9,
   "metadata": {},
   "outputs": [
    {
     "data": {
      "text/plain": [
       "(2479, 20, 38)"
      ]
     },
     "execution_count": 9,
     "metadata": {},
     "output_type": "execute_result"
    }
   ],
   "source": [
    "blocks = int(len(X_train) / 20)\n",
    "X_train = np.array(np.split(X_train, blocks))\n",
    "X_train.shape"
   ]
  },
  {
   "cell_type": "code",
   "execution_count": 10,
   "metadata": {},
   "outputs": [
    {
     "data": {
      "text/plain": [
       "(597, 20, 38)"
      ]
     },
     "execution_count": 10,
     "metadata": {},
     "output_type": "execute_result"
    }
   ],
   "source": [
    "blocks = int(len(X_test) / 20)\n",
    "X_test = np.array(np.split(X_test, blocks))\n",
    "X_test.shape"
   ]
  },
  {
   "cell_type": "code",
   "execution_count": 11,
   "metadata": {},
   "outputs": [
    {
     "data": {
      "text/plain": [
       "(2479, 1)"
      ]
     },
     "execution_count": 11,
     "metadata": {},
     "output_type": "execute_result"
    }
   ],
   "source": [
    "y_train.shape"
   ]
  },
  {
   "cell_type": "code",
   "execution_count": 12,
   "metadata": {},
   "outputs": [
    {
     "name": "stderr",
     "output_type": "stream",
     "text": [
      "C:\\Users\\Yurtsever\\anaconda3\\lib\\site-packages\\sklearn\\utils\\validation.py:72: DataConversionWarning: A column-vector y was passed when a 1d array was expected. Please change the shape of y to (n_samples, ), for example using ravel().\n",
      "  return f(**kwargs)\n"
     ]
    }
   ],
   "source": [
    "label_encoder = LabelEncoder()\n",
    "Y_train = np.array(y_train)\n",
    "Y_train = label_encoder.fit_transform(y_train)"
   ]
  },
  {
   "cell_type": "code",
   "execution_count": 13,
   "metadata": {},
   "outputs": [
    {
     "name": "stdout",
     "output_type": "stream",
     "text": [
      "[0 0 0 ... 5 5 5]\n"
     ]
    }
   ],
   "source": [
    "print(Y_train)"
   ]
  },
  {
   "cell_type": "code",
   "execution_count": 14,
   "metadata": {},
   "outputs": [
    {
     "data": {
      "text/plain": [
       "array([0, 1, 2, 3, 4, 5])"
      ]
     },
     "execution_count": 14,
     "metadata": {},
     "output_type": "execute_result"
    }
   ],
   "source": [
    "label_encoder.classes_"
   ]
  },
  {
   "cell_type": "code",
   "execution_count": 15,
   "metadata": {},
   "outputs": [],
   "source": [
    "Y_train = to_categorical(Y_train)"
   ]
  },
  {
   "cell_type": "code",
   "execution_count": 16,
   "metadata": {},
   "outputs": [],
   "source": [
    "y_test = to_categorical(y_test)"
   ]
  },
  {
   "cell_type": "code",
   "execution_count": 17,
   "metadata": {
    "scrolled": true
   },
   "outputs": [
    {
     "name": "stdout",
     "output_type": "stream",
     "text": [
      "[[1. 0. 0. 0. 0. 0.]\n",
      " [1. 0. 0. 0. 0. 0.]\n",
      " [1. 0. 0. 0. 0. 0.]\n",
      " ...\n",
      " [0. 0. 0. 0. 0. 1.]\n",
      " [0. 0. 0. 0. 0. 1.]\n",
      " [0. 0. 0. 0. 0. 1.]]\n"
     ]
    }
   ],
   "source": [
    "print(Y_train)"
   ]
  },
  {
   "cell_type": "code",
   "execution_count": 18,
   "metadata": {},
   "outputs": [],
   "source": [
    "model = Sequential()\n",
    "\n",
    "model.add(LSTM(32, input_shape=(20, 38), dropout=0.1, recurrent_dropout=0.5, return_sequences=True, activation='sigmoid')) # input_shape=(20, 50)\n",
    "\n",
    "model.add(LSTM(16, input_shape=(20, 38), dropout=0.1, recurrent_dropout=0.5, return_sequences=True, activation='sigmoid'))\n",
    "\n",
    "model.add(LSTM(8, input_shape=(20, 38), dropout=0.1, recurrent_dropout=0.5, return_sequences=False, activation='sigmoid'))\n",
    "\n",
    "#model.add(Dense(32))\n",
    "model.add(Dense(32))\n",
    "\n",
    "model.add(Dense(6, activation='softmax'))"
   ]
  },
  {
   "cell_type": "code",
   "execution_count": 19,
   "metadata": {},
   "outputs": [],
   "source": [
    "model.compile(optimizer=RMSprop(), loss='categorical_crossentropy', metrics=['accuracy']) # adam"
   ]
  },
  {
   "cell_type": "code",
   "execution_count": 20,
   "metadata": {
    "scrolled": false
   },
   "outputs": [
    {
     "name": "stdout",
     "output_type": "stream",
     "text": [
      "Epoch 1/70\n",
      "155/155 [==============================] - 18s 31ms/step - loss: 1.7632 - accuracy: 0.2341 - val_loss: 1.5894 - val_accuracy: 0.4288\n",
      "Epoch 2/70\n",
      "155/155 [==============================] - 3s 20ms/step - loss: 1.7043 - accuracy: 0.2709 - val_loss: 1.3210 - val_accuracy: 0.6097\n",
      "Epoch 3/70\n",
      "155/155 [==============================] - 3s 20ms/step - loss: 1.4575 - accuracy: 0.4343 - val_loss: 1.1260 - val_accuracy: 0.5343\n",
      "Epoch 4/70\n",
      "155/155 [==============================] - 3s 20ms/step - loss: 1.4022 - accuracy: 0.4287 - val_loss: 1.0111 - val_accuracy: 0.6080\n",
      "Epoch 5/70\n",
      "155/155 [==============================] - 3s 20ms/step - loss: 1.3124 - accuracy: 0.4942 - val_loss: 1.1090 - val_accuracy: 0.5109\n",
      "Epoch 6/70\n",
      "155/155 [==============================] - 3s 20ms/step - loss: 1.2356 - accuracy: 0.5008 - val_loss: 1.0665 - val_accuracy: 0.5193\n",
      "Epoch 7/70\n",
      "155/155 [==============================] - 3s 20ms/step - loss: 1.2201 - accuracy: 0.5033 - val_loss: 1.0706 - val_accuracy: 0.5879\n",
      "Epoch 8/70\n",
      "155/155 [==============================] - 3s 20ms/step - loss: 1.1757 - accuracy: 0.5046 - val_loss: 1.0731 - val_accuracy: 0.4171\n",
      "Epoch 9/70\n",
      "155/155 [==============================] - 3s 20ms/step - loss: 1.1221 - accuracy: 0.5332 - val_loss: 0.9513 - val_accuracy: 0.6734\n",
      "Epoch 10/70\n",
      "155/155 [==============================] - 3s 20ms/step - loss: 1.1230 - accuracy: 0.5191 - val_loss: 0.9194 - val_accuracy: 0.6683\n",
      "Epoch 11/70\n",
      "155/155 [==============================] - 3s 20ms/step - loss: 1.1131 - accuracy: 0.5170 - val_loss: 0.9893 - val_accuracy: 0.6801\n",
      "Epoch 12/70\n",
      "155/155 [==============================] - 3s 20ms/step - loss: 1.1031 - accuracy: 0.5348 - val_loss: 0.9081 - val_accuracy: 0.6817\n",
      "Epoch 13/70\n",
      "155/155 [==============================] - 3s 20ms/step - loss: 1.0887 - accuracy: 0.5478 - val_loss: 0.9191 - val_accuracy: 0.6549\n",
      "Epoch 14/70\n",
      "155/155 [==============================] - 3s 20ms/step - loss: 1.0552 - accuracy: 0.5761 - val_loss: 0.8695 - val_accuracy: 0.6834\n",
      "Epoch 15/70\n",
      "155/155 [==============================] - 3s 20ms/step - loss: 1.0125 - accuracy: 0.5727 - val_loss: 0.9219 - val_accuracy: 0.6851\n",
      "Epoch 16/70\n",
      "155/155 [==============================] - 3s 20ms/step - loss: 1.0037 - accuracy: 0.5949 - val_loss: 0.8817 - val_accuracy: 0.7002\n",
      "Epoch 17/70\n",
      "155/155 [==============================] - 3s 20ms/step - loss: 1.0149 - accuracy: 0.6035 - val_loss: 0.8504 - val_accuracy: 0.7035\n",
      "Epoch 18/70\n",
      "155/155 [==============================] - 3s 20ms/step - loss: 0.9925 - accuracy: 0.6141 - val_loss: 0.9121 - val_accuracy: 0.6013\n",
      "Epoch 19/70\n",
      "155/155 [==============================] - 3s 20ms/step - loss: 0.9894 - accuracy: 0.6211 - val_loss: 0.8541 - val_accuracy: 0.7069\n",
      "Epoch 20/70\n",
      "155/155 [==============================] - 3s 20ms/step - loss: 0.9980 - accuracy: 0.6174 - val_loss: 0.8889 - val_accuracy: 0.7136\n",
      "Epoch 21/70\n",
      "155/155 [==============================] - 3s 20ms/step - loss: 1.0022 - accuracy: 0.6217 - val_loss: 0.9055 - val_accuracy: 0.6214\n",
      "Epoch 22/70\n",
      "155/155 [==============================] - 3s 20ms/step - loss: 0.9635 - accuracy: 0.6201 - val_loss: 0.8582 - val_accuracy: 0.7236\n",
      "Epoch 23/70\n",
      "155/155 [==============================] - 3s 20ms/step - loss: 0.9466 - accuracy: 0.6475 - val_loss: 0.8856 - val_accuracy: 0.7002\n",
      "Epoch 24/70\n",
      "155/155 [==============================] - 3s 20ms/step - loss: 0.9646 - accuracy: 0.6286 - val_loss: 0.8382 - val_accuracy: 0.7270\n",
      "Epoch 25/70\n",
      "155/155 [==============================] - 3s 20ms/step - loss: 0.9387 - accuracy: 0.6409 - val_loss: 0.8674 - val_accuracy: 0.6499\n",
      "Epoch 26/70\n",
      "155/155 [==============================] - 3s 20ms/step - loss: 0.9136 - accuracy: 0.6672 - val_loss: 0.8841 - val_accuracy: 0.5863\n",
      "Epoch 27/70\n",
      "155/155 [==============================] - 3s 20ms/step - loss: 0.9033 - accuracy: 0.6509 - val_loss: 0.9086 - val_accuracy: 0.5578\n",
      "Epoch 28/70\n",
      "155/155 [==============================] - 3s 20ms/step - loss: 0.8816 - accuracy: 0.6777 - val_loss: 0.8503 - val_accuracy: 0.6868\n",
      "Epoch 29/70\n",
      "155/155 [==============================] - 3s 20ms/step - loss: 0.8688 - accuracy: 0.6846 - val_loss: 0.8275 - val_accuracy: 0.7069\n",
      "Epoch 30/70\n",
      "155/155 [==============================] - 3s 20ms/step - loss: 0.8627 - accuracy: 0.6804 - val_loss: 0.8776 - val_accuracy: 0.6449\n",
      "Epoch 31/70\n",
      "155/155 [==============================] - 3s 20ms/step - loss: 0.8571 - accuracy: 0.6754 - val_loss: 0.8902 - val_accuracy: 0.6164\n",
      "Epoch 32/70\n",
      "155/155 [==============================] - 3s 20ms/step - loss: 0.8331 - accuracy: 0.6882 - val_loss: 0.9106 - val_accuracy: 0.6181\n",
      "Epoch 33/70\n",
      "155/155 [==============================] - 3s 20ms/step - loss: 0.8352 - accuracy: 0.6949 - val_loss: 0.8772 - val_accuracy: 0.6298\n",
      "Epoch 34/70\n",
      "155/155 [==============================] - 3s 20ms/step - loss: 0.8253 - accuracy: 0.6873 - val_loss: 0.8911 - val_accuracy: 0.6449\n",
      "Epoch 35/70\n",
      "155/155 [==============================] - 3s 20ms/step - loss: 0.7979 - accuracy: 0.7031 - val_loss: 0.8543 - val_accuracy: 0.6231\n",
      "Epoch 36/70\n",
      "155/155 [==============================] - 3s 20ms/step - loss: 0.7930 - accuracy: 0.7074 - val_loss: 0.9115 - val_accuracy: 0.6214\n",
      "Epoch 37/70\n",
      "155/155 [==============================] - 3s 20ms/step - loss: 0.8390 - accuracy: 0.6771 - val_loss: 0.8671 - val_accuracy: 0.6365\n",
      "Epoch 38/70\n",
      "155/155 [==============================] - 3s 20ms/step - loss: 0.7774 - accuracy: 0.7065 - val_loss: 0.9013 - val_accuracy: 0.6114\n",
      "Epoch 39/70\n",
      "155/155 [==============================] - 3s 20ms/step - loss: 0.7961 - accuracy: 0.7115 - val_loss: 0.9491 - val_accuracy: 0.6181\n",
      "Epoch 40/70\n",
      "155/155 [==============================] - 3s 20ms/step - loss: 0.7450 - accuracy: 0.7136 - val_loss: 0.9139 - val_accuracy: 0.6348\n",
      "Epoch 41/70\n",
      "155/155 [==============================] - 3s 20ms/step - loss: 0.7695 - accuracy: 0.7166 - val_loss: 0.8549 - val_accuracy: 0.6482\n",
      "Epoch 42/70\n",
      "155/155 [==============================] - 3s 20ms/step - loss: 0.7575 - accuracy: 0.7083 - val_loss: 0.8682 - val_accuracy: 0.6834\n",
      "Epoch 43/70\n",
      "155/155 [==============================] - 3s 20ms/step - loss: 0.7434 - accuracy: 0.7272 - val_loss: 0.8889 - val_accuracy: 0.6382\n",
      "Epoch 44/70\n",
      "155/155 [==============================] - 3s 20ms/step - loss: 0.7473 - accuracy: 0.7225 - val_loss: 0.9872 - val_accuracy: 0.5913\n",
      "Epoch 45/70\n",
      "155/155 [==============================] - 3s 20ms/step - loss: 0.7366 - accuracy: 0.7298 - val_loss: 0.8949 - val_accuracy: 0.6248\n",
      "Epoch 46/70\n",
      "155/155 [==============================] - 3s 21ms/step - loss: 0.7098 - accuracy: 0.7307 - val_loss: 0.8611 - val_accuracy: 0.6382\n",
      "Epoch 47/70\n",
      "155/155 [==============================] - 3s 20ms/step - loss: 0.7196 - accuracy: 0.7340 - val_loss: 0.8770 - val_accuracy: 0.6365\n",
      "Epoch 48/70\n",
      "155/155 [==============================] - 3s 20ms/step - loss: 0.7098 - accuracy: 0.7381 - val_loss: 0.8817 - val_accuracy: 0.6566\n",
      "Epoch 49/70\n",
      "155/155 [==============================] - 3s 20ms/step - loss: 0.6652 - accuracy: 0.7681 - val_loss: 0.9878 - val_accuracy: 0.5561\n",
      "Epoch 50/70\n",
      "155/155 [==============================] - 3s 20ms/step - loss: 0.6696 - accuracy: 0.7583 - val_loss: 0.9447 - val_accuracy: 0.5779\n",
      "Epoch 51/70\n",
      "155/155 [==============================] - 3s 20ms/step - loss: 0.6773 - accuracy: 0.7724 - val_loss: 1.0028 - val_accuracy: 0.5528\n",
      "Epoch 52/70\n",
      "155/155 [==============================] - 3s 20ms/step - loss: 0.6639 - accuracy: 0.7576 - val_loss: 0.9137 - val_accuracy: 0.5896\n",
      "Epoch 53/70\n",
      "155/155 [==============================] - 3s 20ms/step - loss: 0.6200 - accuracy: 0.7824 - val_loss: 0.9364 - val_accuracy: 0.5729\n",
      "Epoch 54/70\n",
      "155/155 [==============================] - 3s 20ms/step - loss: 0.6267 - accuracy: 0.7810 - val_loss: 1.1283 - val_accuracy: 0.5444\n",
      "Epoch 55/70\n",
      "155/155 [==============================] - 3s 21ms/step - loss: 0.6348 - accuracy: 0.7817 - val_loss: 1.0215 - val_accuracy: 0.5695\n",
      "Epoch 56/70\n",
      "155/155 [==============================] - 3s 20ms/step - loss: 0.5951 - accuracy: 0.7854 - val_loss: 1.1050 - val_accuracy: 0.6147\n",
      "Epoch 57/70\n",
      "155/155 [==============================] - 3s 21ms/step - loss: 0.5992 - accuracy: 0.7867 - val_loss: 1.1823 - val_accuracy: 0.5461\n"
     ]
    },
    {
     "name": "stdout",
     "output_type": "stream",
     "text": [
      "Epoch 58/70\n",
      "155/155 [==============================] - 3s 20ms/step - loss: 0.5773 - accuracy: 0.8020 - val_loss: 1.1718 - val_accuracy: 0.5997\n",
      "Epoch 59/70\n",
      "155/155 [==============================] - 3s 21ms/step - loss: 0.5682 - accuracy: 0.7961 - val_loss: 1.2573 - val_accuracy: 0.5913\n",
      "Epoch 60/70\n",
      "155/155 [==============================] - 3s 20ms/step - loss: 0.5905 - accuracy: 0.7856 - val_loss: 0.9113 - val_accuracy: 0.6566\n",
      "Epoch 61/70\n",
      "155/155 [==============================] - 3s 20ms/step - loss: 0.5656 - accuracy: 0.8150 - val_loss: 1.0299 - val_accuracy: 0.6399\n",
      "Epoch 62/70\n",
      "155/155 [==============================] - 3s 20ms/step - loss: 0.5218 - accuracy: 0.8117 - val_loss: 1.0285 - val_accuracy: 0.6633\n",
      "Epoch 63/70\n",
      "155/155 [==============================] - 3s 20ms/step - loss: 0.5412 - accuracy: 0.8158 - val_loss: 1.0787 - val_accuracy: 0.6131\n",
      "Epoch 64/70\n",
      "155/155 [==============================] - 3s 20ms/step - loss: 0.5338 - accuracy: 0.8196 - val_loss: 1.2248 - val_accuracy: 0.5980\n",
      "Epoch 65/70\n",
      "155/155 [==============================] - 3s 20ms/step - loss: 0.5254 - accuracy: 0.8112 - val_loss: 0.9577 - val_accuracy: 0.6449\n",
      "Epoch 66/70\n",
      "155/155 [==============================] - 3s 20ms/step - loss: 0.5099 - accuracy: 0.8265 - val_loss: 1.0882 - val_accuracy: 0.6382\n",
      "Epoch 67/70\n",
      "155/155 [==============================] - 3s 20ms/step - loss: 0.5038 - accuracy: 0.8236 - val_loss: 0.9089 - val_accuracy: 0.6683\n",
      "Epoch 68/70\n",
      "155/155 [==============================] - 3s 20ms/step - loss: 0.4667 - accuracy: 0.8386 - val_loss: 1.2511 - val_accuracy: 0.6298\n",
      "Epoch 69/70\n",
      "155/155 [==============================] - 3s 21ms/step - loss: 0.5036 - accuracy: 0.8241 - val_loss: 1.2693 - val_accuracy: 0.6047\n",
      "Epoch 70/70\n",
      "155/155 [==============================] - 3s 20ms/step - loss: 0.4611 - accuracy: 0.8381 - val_loss: 1.0351 - val_accuracy: 0.6432\n"
     ]
    }
   ],
   "source": [
    "history = model.fit(X_train, Y_train, validation_data=(X_test, y_test), epochs=70, batch_size=16)"
   ]
  },
  {
   "cell_type": "code",
   "execution_count": 21,
   "metadata": {},
   "outputs": [
    {
     "name": "stdout",
     "output_type": "stream",
     "text": [
      "dict_keys(['loss', 'accuracy', 'val_loss', 'val_accuracy'])\n"
     ]
    },
    {
     "data": {
      "image/png": "[encoded data removed]",
      "text/plain": [
       "<Figure size 576x576 with 1 Axes>"
      ]
     },
     "metadata": {
      "needs_background": "light"
     },
     "output_type": "display_data"
    },
    {
     "data": {
      "image/png": "[encoded data removed]",
      "text/plain": [
       "<Figure size 576x576 with 1 Axes>"
      ]
     },
     "metadata": {
      "needs_background": "light"
     },
     "output_type": "display_data"
    }
   ],
   "source": [
    "# (Inline plots: )\n",
    "\n",
    "font = {\n",
    "    'weight' : 'bold',\n",
    "    'size'   : 14\n",
    "}\n",
    "matplotlib.rc('font', **font)\n",
    "\n",
    "width = 8\n",
    "height = 8\n",
    "plt.figure(figsize=(width, height))\n",
    "\n",
    "\n",
    "print(history.history.keys())\n",
    "# summarize history for accuracy\n",
    "plt.plot(history.history['accuracy'])\n",
    "plt.plot(history.history['val_accuracy'])\n",
    "plt.title('model accuracy')\n",
    "plt.ylabel('accuracy')\n",
    "plt.xlabel('epoch')\n",
    "plt.legend(['train', 'test'], loc='upper left')\n",
    "plt.show()\n",
    "\n",
    "font = {\n",
    "    'weight' : 'bold',\n",
    "    'size'   : 14\n",
    "}\n",
    "matplotlib.rc('font', **font)\n",
    "\n",
    "width = 8\n",
    "height = 8\n",
    "plt.figure(figsize=(width, height))\n",
    "\n",
    "\n",
    "# summarize history for loss\n",
    "plt.plot(history.history['loss'])\n",
    "plt.plot(history.history['val_loss'])\n",
    "plt.title('model loss')\n",
    "plt.ylabel('loss')\n",
    "plt.xlabel('epoch')\n",
    "plt.legend(['train', 'test'], loc='upper left')\n",
    "plt.show()"
   ]
  },
  {
   "cell_type": "code",
   "execution_count": 22,
   "metadata": {},
   "outputs": [
    {
     "name": "stderr",
     "output_type": "stream",
     "text": [
      "C:\\Users\\Yurtsever\\AppData\\Roaming\\Python\\Python38\\site-packages\\tensorflow\\python\\keras\\engine\\sequential.py:450: UserWarning: `model.predict_classes()` is deprecated and will be removed after 2021-01-01. Please use instead:* `np.argmax(model.predict(x), axis=-1)`,   if your model does multi-class classification   (e.g. if it uses a `softmax` last-layer activation).* `(model.predict(x) > 0.5).astype(\"int32\")`,   if your model does binary classification   (e.g. if it uses a `sigmoid` last-layer activation).\n",
      "  warnings.warn('`model.predict_classes()` is deprecated and '\n"
     ]
    }
   ],
   "source": [
    "y_true = y_test\n",
    "y_pred = model.predict_classes(X_test)\n",
    "\n",
    "classes=[\"arching_back\", \"head_banging\", \"kicking_legs\", \"rubbing_eye\", \"stretching\", \"sucking_fingers\"]"
   ]
  },
  {
   "cell_type": "code",
   "execution_count": 23,
   "metadata": {},
   "outputs": [
    {
     "data": {
      "image/png": "[encoded data removed]",
      "text/plain": [
       "<Figure size 576x576 with 2 Axes>"
      ]
     },
     "metadata": {
      "needs_background": "light"
     },
     "output_type": "display_data"
    }
   ],
   "source": [
    "con_mat = tf.math.confusion_matrix(labels=y_true.argmax(axis=1), predictions=y_pred).numpy()\n",
    "con_mat_norm = np.around(con_mat.astype('float') / con_mat.sum(axis=1)[:, np.newaxis], decimals=2)\n",
    "\n",
    "con_mat_df = pd.DataFrame(con_mat_norm,\n",
    "                     index = classes, \n",
    "                     columns = classes)\n",
    "\n",
    "figure = plt.figure(figsize=(8, 8))\n",
    "sns.heatmap(con_mat_df, annot=True,cmap=plt.cm.Blues)\n",
    "plt.tight_layout()\n",
    "plt.ylabel('True label')\n",
    "plt.xlabel('Predicted label')\n",
    "plt.show()"
   ]
  },
  {
   "cell_type": "code",
   "execution_count": 24,
   "metadata": {},
   "outputs": [],
   "source": [
    "y_pred = model.predict(X_test)\n",
    "confusion_matrix = sklearn.metrics.confusion_matrix(y_test.argmax(axis=1), np.rint(y_pred.argmax(axis=1)))"
   ]
  },
  {
   "cell_type": "code",
   "execution_count": 25,
   "metadata": {
    "scrolled": true
   },
   "outputs": [
    {
     "name": "stdout",
     "output_type": "stream",
     "text": [
      "[[  2   2   4   0   0   2]\n",
      " [  0  28   0   0   0   0]\n",
      " [  0   0 164   0   0   0]\n",
      " [  0   0   0  79   8   1]\n",
      " [  0   0   0  15  26  10]\n",
      " [  0  71   0  19  81  85]]\n"
     ]
    }
   ],
   "source": [
    "print(confusion_matrix)"
   ]
  },
  {
   "cell_type": "code",
   "execution_count": 26,
   "metadata": {
    "scrolled": true
   },
   "outputs": [
    {
     "name": "stdout",
     "output_type": "stream",
     "text": [
      "[[1. 0. 0. 0. 0. 0.]\n",
      " [1. 0. 0. 0. 0. 0.]\n",
      " [1. 0. 0. 0. 0. 0.]\n",
      " ...\n",
      " [0. 0. 0. 0. 0. 1.]\n",
      " [0. 0. 0. 0. 0. 1.]\n",
      " [0. 0. 0. 0. 0. 1.]]\n"
     ]
    }
   ],
   "source": [
    "print(y_test)"
   ]
  },
  {
   "cell_type": "code",
   "execution_count": 27,
   "metadata": {
    "scrolled": true
   },
   "outputs": [
    {
     "ename": "InvalidArgumentError",
     "evalue": "Shapes of all inputs must match: values[0].shape = [597] != values[1].shape = [597,6] [Op:Pack] name: stack",
     "output_type": "error",
     "traceback": [
      "\u001b[1;31m---------------------------------------------------------------------------\u001b[0m",
      "\u001b[1;31mInvalidArgumentError\u001b[0m                      Traceback (most recent call last)",
      "\u001b[1;32m<ipython-input-27-6bd117d149ed>\u001b[0m in \u001b[0;36m<module>\u001b[1;34m\u001b[0m\n\u001b[0;32m      1\u001b[0m \u001b[1;32mimport\u001b[0m \u001b[0mtensorflow\u001b[0m \u001b[1;32mas\u001b[0m \u001b[0mtf\u001b[0m\u001b[1;33m\u001b[0m\u001b[1;33m\u001b[0m\u001b[0m\n\u001b[1;32m----> 2\u001b[1;33m conf_matrix = tf.math.confusion_matrix(labels=y_test.argmax(axis=1),\n\u001b[0m\u001b[0;32m      3\u001b[0m                                        predictions=y_pred)\n",
      "\u001b[1;32m~\\AppData\\Roaming\\Python\\Python38\\site-packages\\tensorflow\\python\\util\\dispatch.py\u001b[0m in \u001b[0;36mwrapper\u001b[1;34m(*args, **kwargs)\u001b[0m\n\u001b[0;32m    199\u001b[0m     \u001b[1;34m\"\"\"Call target, and fall back on dispatchers if there is a TypeError.\"\"\"\u001b[0m\u001b[1;33m\u001b[0m\u001b[1;33m\u001b[0m\u001b[0m\n\u001b[0;32m    200\u001b[0m     \u001b[1;32mtry\u001b[0m\u001b[1;33m:\u001b[0m\u001b[1;33m\u001b[0m\u001b[1;33m\u001b[0m\u001b[0m\n\u001b[1;32m--> 201\u001b[1;33m       \u001b[1;32mreturn\u001b[0m \u001b[0mtarget\u001b[0m\u001b[1;33m(\u001b[0m\u001b[1;33m*\u001b[0m\u001b[0margs\u001b[0m\u001b[1;33m,\u001b[0m \u001b[1;33m**\u001b[0m\u001b[0mkwargs\u001b[0m\u001b[1;33m)\u001b[0m\u001b[1;33m\u001b[0m\u001b[1;33m\u001b[0m\u001b[0m\n\u001b[0m\u001b[0;32m    202\u001b[0m     \u001b[1;32mexcept\u001b[0m \u001b[1;33m(\u001b[0m\u001b[0mTypeError\u001b[0m\u001b[1;33m,\u001b[0m \u001b[0mValueError\u001b[0m\u001b[1;33m)\u001b[0m\u001b[1;33m:\u001b[0m\u001b[1;33m\u001b[0m\u001b[1;33m\u001b[0m\u001b[0m\n\u001b[0;32m    203\u001b[0m       \u001b[1;31m# Note: convert_to_eager_tensor currently raises a ValueError, not a\u001b[0m\u001b[1;33m\u001b[0m\u001b[1;33m\u001b[0m\u001b[1;33m\u001b[0m\u001b[0m\n",
      "\u001b[1;32m~\\AppData\\Roaming\\Python\\Python38\\site-packages\\tensorflow\\python\\ops\\confusion_matrix.py\u001b[0m in \u001b[0;36mconfusion_matrix\u001b[1;34m(labels, predictions, num_classes, weights, dtype, name)\u001b[0m\n\u001b[0;32m    190\u001b[0m \u001b[1;33m\u001b[0m\u001b[0m\n\u001b[0;32m    191\u001b[0m     \u001b[0mshape\u001b[0m \u001b[1;33m=\u001b[0m \u001b[0marray_ops\u001b[0m\u001b[1;33m.\u001b[0m\u001b[0mstack\u001b[0m\u001b[1;33m(\u001b[0m\u001b[1;33m[\u001b[0m\u001b[0mnum_classes\u001b[0m\u001b[1;33m,\u001b[0m \u001b[0mnum_classes\u001b[0m\u001b[1;33m]\u001b[0m\u001b[1;33m)\u001b[0m\u001b[1;33m\u001b[0m\u001b[1;33m\u001b[0m\u001b[0m\n\u001b[1;32m--> 192\u001b[1;33m     \u001b[0mindices\u001b[0m \u001b[1;33m=\u001b[0m \u001b[0marray_ops\u001b[0m\u001b[1;33m.\u001b[0m\u001b[0mstack\u001b[0m\u001b[1;33m(\u001b[0m\u001b[1;33m[\u001b[0m\u001b[0mlabels\u001b[0m\u001b[1;33m,\u001b[0m \u001b[0mpredictions\u001b[0m\u001b[1;33m]\u001b[0m\u001b[1;33m,\u001b[0m \u001b[0maxis\u001b[0m\u001b[1;33m=\u001b[0m\u001b[1;36m1\u001b[0m\u001b[1;33m)\u001b[0m\u001b[1;33m\u001b[0m\u001b[1;33m\u001b[0m\u001b[0m\n\u001b[0m\u001b[0;32m    193\u001b[0m     values = (array_ops.ones_like(predictions, dtype)\n\u001b[0;32m    194\u001b[0m               if weights is None else weights)\n",
      "\u001b[1;32m~\\AppData\\Roaming\\Python\\Python38\\site-packages\\tensorflow\\python\\util\\dispatch.py\u001b[0m in \u001b[0;36mwrapper\u001b[1;34m(*args, **kwargs)\u001b[0m\n\u001b[0;32m    199\u001b[0m     \u001b[1;34m\"\"\"Call target, and fall back on dispatchers if there is a TypeError.\"\"\"\u001b[0m\u001b[1;33m\u001b[0m\u001b[1;33m\u001b[0m\u001b[0m\n\u001b[0;32m    200\u001b[0m     \u001b[1;32mtry\u001b[0m\u001b[1;33m:\u001b[0m\u001b[1;33m\u001b[0m\u001b[1;33m\u001b[0m\u001b[0m\n\u001b[1;32m--> 201\u001b[1;33m       \u001b[1;32mreturn\u001b[0m \u001b[0mtarget\u001b[0m\u001b[1;33m(\u001b[0m\u001b[1;33m*\u001b[0m\u001b[0margs\u001b[0m\u001b[1;33m,\u001b[0m \u001b[1;33m**\u001b[0m\u001b[0mkwargs\u001b[0m\u001b[1;33m)\u001b[0m\u001b[1;33m\u001b[0m\u001b[1;33m\u001b[0m\u001b[0m\n\u001b[0m\u001b[0;32m    202\u001b[0m     \u001b[1;32mexcept\u001b[0m \u001b[1;33m(\u001b[0m\u001b[0mTypeError\u001b[0m\u001b[1;33m,\u001b[0m \u001b[0mValueError\u001b[0m\u001b[1;33m)\u001b[0m\u001b[1;33m:\u001b[0m\u001b[1;33m\u001b[0m\u001b[1;33m\u001b[0m\u001b[0m\n\u001b[0;32m    203\u001b[0m       \u001b[1;31m# Note: convert_to_eager_tensor currently raises a ValueError, not a\u001b[0m\u001b[1;33m\u001b[0m\u001b[1;33m\u001b[0m\u001b[1;33m\u001b[0m\u001b[0m\n",
      "\u001b[1;32m~\\AppData\\Roaming\\Python\\Python38\\site-packages\\tensorflow\\python\\ops\\array_ops.py\u001b[0m in \u001b[0;36mstack\u001b[1;34m(values, axis, name)\u001b[0m\n\u001b[0;32m   1410\u001b[0m                        (axis, -expanded_num_dims, expanded_num_dims))\n\u001b[0;32m   1411\u001b[0m \u001b[1;33m\u001b[0m\u001b[0m\n\u001b[1;32m-> 1412\u001b[1;33m   \u001b[1;32mreturn\u001b[0m \u001b[0mgen_array_ops\u001b[0m\u001b[1;33m.\u001b[0m\u001b[0mpack\u001b[0m\u001b[1;33m(\u001b[0m\u001b[0mvalues\u001b[0m\u001b[1;33m,\u001b[0m \u001b[0maxis\u001b[0m\u001b[1;33m=\u001b[0m\u001b[0maxis\u001b[0m\u001b[1;33m,\u001b[0m \u001b[0mname\u001b[0m\u001b[1;33m=\u001b[0m\u001b[0mname\u001b[0m\u001b[1;33m)\u001b[0m\u001b[1;33m\u001b[0m\u001b[1;33m\u001b[0m\u001b[0m\n\u001b[0m\u001b[0;32m   1413\u001b[0m \u001b[1;33m\u001b[0m\u001b[0m\n\u001b[0;32m   1414\u001b[0m \u001b[1;33m\u001b[0m\u001b[0m\n",
      "\u001b[1;32m~\\AppData\\Roaming\\Python\\Python38\\site-packages\\tensorflow\\python\\ops\\gen_array_ops.py\u001b[0m in \u001b[0;36mpack\u001b[1;34m(values, axis, name)\u001b[0m\n\u001b[0;32m   6377\u001b[0m       \u001b[1;32mreturn\u001b[0m \u001b[0m_result\u001b[0m\u001b[1;33m\u001b[0m\u001b[1;33m\u001b[0m\u001b[0m\n\u001b[0;32m   6378\u001b[0m     \u001b[1;32mexcept\u001b[0m \u001b[0m_core\u001b[0m\u001b[1;33m.\u001b[0m\u001b[0m_NotOkStatusException\u001b[0m \u001b[1;32mas\u001b[0m \u001b[0me\u001b[0m\u001b[1;33m:\u001b[0m\u001b[1;33m\u001b[0m\u001b[1;33m\u001b[0m\u001b[0m\n\u001b[1;32m-> 6379\u001b[1;33m       \u001b[0m_ops\u001b[0m\u001b[1;33m.\u001b[0m\u001b[0mraise_from_not_ok_status\u001b[0m\u001b[1;33m(\u001b[0m\u001b[0me\u001b[0m\u001b[1;33m,\u001b[0m \u001b[0mname\u001b[0m\u001b[1;33m)\u001b[0m\u001b[1;33m\u001b[0m\u001b[1;33m\u001b[0m\u001b[0m\n\u001b[0m\u001b[0;32m   6380\u001b[0m     \u001b[1;32mexcept\u001b[0m \u001b[0m_core\u001b[0m\u001b[1;33m.\u001b[0m\u001b[0m_FallbackException\u001b[0m\u001b[1;33m:\u001b[0m\u001b[1;33m\u001b[0m\u001b[1;33m\u001b[0m\u001b[0m\n\u001b[0;32m   6381\u001b[0m       \u001b[1;32mpass\u001b[0m\u001b[1;33m\u001b[0m\u001b[1;33m\u001b[0m\u001b[0m\n",
      "\u001b[1;32m~\\AppData\\Roaming\\Python\\Python38\\site-packages\\tensorflow\\python\\framework\\ops.py\u001b[0m in \u001b[0;36mraise_from_not_ok_status\u001b[1;34m(e, name)\u001b[0m\n\u001b[0;32m   6860\u001b[0m   \u001b[0mmessage\u001b[0m \u001b[1;33m=\u001b[0m \u001b[0me\u001b[0m\u001b[1;33m.\u001b[0m\u001b[0mmessage\u001b[0m \u001b[1;33m+\u001b[0m \u001b[1;33m(\u001b[0m\u001b[1;34m\" name: \"\u001b[0m \u001b[1;33m+\u001b[0m \u001b[0mname\u001b[0m \u001b[1;32mif\u001b[0m \u001b[0mname\u001b[0m \u001b[1;32mis\u001b[0m \u001b[1;32mnot\u001b[0m \u001b[1;32mNone\u001b[0m \u001b[1;32melse\u001b[0m \u001b[1;34m\"\"\u001b[0m\u001b[1;33m)\u001b[0m\u001b[1;33m\u001b[0m\u001b[1;33m\u001b[0m\u001b[0m\n\u001b[0;32m   6861\u001b[0m   \u001b[1;31m# pylint: disable=protected-access\u001b[0m\u001b[1;33m\u001b[0m\u001b[1;33m\u001b[0m\u001b[1;33m\u001b[0m\u001b[0m\n\u001b[1;32m-> 6862\u001b[1;33m   \u001b[0msix\u001b[0m\u001b[1;33m.\u001b[0m\u001b[0mraise_from\u001b[0m\u001b[1;33m(\u001b[0m\u001b[0mcore\u001b[0m\u001b[1;33m.\u001b[0m\u001b[0m_status_to_exception\u001b[0m\u001b[1;33m(\u001b[0m\u001b[0me\u001b[0m\u001b[1;33m.\u001b[0m\u001b[0mcode\u001b[0m\u001b[1;33m,\u001b[0m \u001b[0mmessage\u001b[0m\u001b[1;33m)\u001b[0m\u001b[1;33m,\u001b[0m \u001b[1;32mNone\u001b[0m\u001b[1;33m)\u001b[0m\u001b[1;33m\u001b[0m\u001b[1;33m\u001b[0m\u001b[0m\n\u001b[0m\u001b[0;32m   6863\u001b[0m   \u001b[1;31m# pylint: enable=protected-access\u001b[0m\u001b[1;33m\u001b[0m\u001b[1;33m\u001b[0m\u001b[1;33m\u001b[0m\u001b[0m\n\u001b[0;32m   6864\u001b[0m \u001b[1;33m\u001b[0m\u001b[0m\n",
      "\u001b[1;32m~\\anaconda3\\lib\\site-packages\\six.py\u001b[0m in \u001b[0;36mraise_from\u001b[1;34m(value, from_value)\u001b[0m\n",
      "\u001b[1;31mInvalidArgumentError\u001b[0m: Shapes of all inputs must match: values[0].shape = [597] != values[1].shape = [597,6] [Op:Pack] name: stack"
     ]
    }
   ],
   "source": [
    "import tensorflow as tf\n",
    "conf_matrix = tf.math.confusion_matrix(labels=y_test.argmax(axis=1),\n",
    "                                       predictions=y_pred)"
   ]
  },
  {
   "cell_type": "code",
   "execution_count": null,
   "metadata": {},
   "outputs": [],
   "source": [
    "print(conf_matrix)"
   ]
  },
  {
   "cell_type": "code",
   "execution_count": null,
   "metadata": {},
   "outputs": [],
   "source": []
  }
 ],
 "metadata": {
  "kernelspec": {
   "display_name": "Python 3",
   "language": "python",
   "name": "python3"
  },
  "language_info": {
   "codemirror_mode": {
    "name": "ipython",
    "version": 3
   },
   "file_extension": ".py",
   "mimetype": "text/x-python",
   "name": "python",
   "nbconvert_exporter": "python",
   "pygments_lexer": "ipython3",
   "version": "3.8.5"
  }
 },
 "nbformat": 4,
 "nbformat_minor": 4
}
